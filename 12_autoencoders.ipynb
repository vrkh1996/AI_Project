{
 "cells": [
  {
   "cell_type": "markdown",
   "metadata": {
    "colab_type": "text",
    "id": "IL7b0ha-CyTz"
   },
   "source": [
    "# Autoencoding"
   ]
  },
  {
   "cell_type": "code",
   "execution_count": null,
   "metadata": {
    "colab": {},
    "colab_type": "code",
    "id": "QCpuzP7sCysE"
   },
   "outputs": [],
   "source": [
    "from tensorflow import keras"
   ]
  },
  {
   "cell_type": "code",
   "execution_count": null,
   "metadata": {
    "colab": {
     "base_uri": "https://localhost:8080/",
     "height": 50
    },
    "colab_type": "code",
    "id": "d5Z-zjCe7P1A",
    "outputId": "d1708c6e-cc7d-4e96-c9cd-f44b1723288f"
   },
   "outputs": [],
   "source": [
    "(x_train, _), (x_test, _) = keras.datasets.mnist.load_data()"
   ]
  },
  {
   "cell_type": "code",
   "execution_count": null,
   "metadata": {
    "colab": {
     "base_uri": "https://localhost:8080/",
     "height": 34
    },
    "colab_type": "code",
    "id": "5LLrO5B_7P3X",
    "outputId": "57fec411-596b-4984-df67-6e6dd4bd2ac4"
   },
   "outputs": [],
   "source": [
    "x_train.shape"
   ]
  },
  {
   "cell_type": "code",
   "execution_count": null,
   "metadata": {
    "colab": {
     "base_uri": "https://localhost:8080/",
     "height": 34
    },
    "colab_type": "code",
    "id": "ffBO0eWN7P5n",
    "outputId": "41a1bebd-03e8-4b8c-8d2a-9cf1ebd02819"
   },
   "outputs": [],
   "source": [
    "x_test.shape"
   ]
  },
  {
   "cell_type": "code",
   "execution_count": null,
   "metadata": {
    "colab": {},
    "colab_type": "code",
    "id": "AsV3h0jD7P8H"
   },
   "outputs": [],
   "source": [
    "x_train = x_train.astype(\"float32\") / 255.0\n",
    "x_test = x_test.astype(\"float32\") / 255.0"
   ]
  },
  {
   "cell_type": "code",
   "execution_count": null,
   "metadata": {
    "colab": {
     "base_uri": "https://localhost:8080/",
     "height": 292
    },
    "colab_type": "code",
    "id": "NO-INOOb7P-e",
    "outputId": "b584a4c4-bd1b-4f60-b0b7-d142bfd8ab96"
   },
   "outputs": [],
   "source": [
    "import matplotlib.pyplot as plt\n",
    "\n",
    "n_rows = 4\n",
    "n_cols = 10\n",
    "plt.figure(figsize=(n_cols * 1.2, n_rows * 1.2))\n",
    "for row in range(n_rows):\n",
    "    for col in range(n_cols):\n",
    "        index = n_cols * row + col\n",
    "        plt.subplot(n_rows, n_cols, index + 1)\n",
    "        plt.imshow(x_train[index], cmap=\"gray\", interpolation=\"nearest\")\n",
    "        plt.axis('off')\n",
    "plt.subplots_adjust(wspace=0.2, hspace=0.5)\n",
    "plt.show()"
   ]
  },
  {
   "cell_type": "code",
   "execution_count": null,
   "metadata": {
    "colab": {},
    "colab_type": "code",
    "id": "1KV0grQk7yZH"
   },
   "outputs": [],
   "source": [
    "autoencoder = keras.models.Sequential()\n",
    "autoencoder.add(keras.layers.Flatten(input_shape=x_train.shape[1:]))\n",
    "autoencoder.add(keras.layers.Dense(128, activation=\"relu\"))\n",
    "autoencoder.add(keras.layers.Dense(50, activation=\"relu\"))\n",
    "autoencoder.add(keras.layers.Dense(128, activation=\"relu\"))\n",
    "autoencoder.add(keras.layers.Dense(x_train.shape[1]*x_train.shape[2], activation=\"relu\"))\n",
    "autoencoder.add(keras.layers.Reshape(x_train.shape[1:]))"
   ]
  },
  {
   "cell_type": "code",
   "execution_count": null,
   "metadata": {
    "colab": {
     "base_uri": "https://localhost:8080/",
     "height": 353
    },
    "colab_type": "code",
    "id": "mTRy7pcQ8my2",
    "outputId": "e6bf7918-e759-4ee1-fd72-b3da377dfa21"
   },
   "outputs": [],
   "source": [
    "autoencoder.summary()"
   ]
  },
  {
   "cell_type": "code",
   "execution_count": null,
   "metadata": {
    "colab": {},
    "colab_type": "code",
    "id": "JUb5MveM7yby"
   },
   "outputs": [],
   "source": [
    "autoencoder.compile(loss=\"mse\",\n",
    "              optimizer=\"adam\",\n",
    "              metrics=[\"mae\"])"
   ]
  },
  {
   "cell_type": "code",
   "execution_count": null,
   "metadata": {
    "colab": {
     "base_uri": "https://localhost:8080/",
     "height": 689
    },
    "colab_type": "code",
    "id": "hNMMVP-g7yeZ",
    "outputId": "65383fec-c16f-4fee-9669-444bae2b1499"
   },
   "outputs": [],
   "source": [
    "H = autoencoder.fit(\n",
    "\tx_train, x_train,\n",
    "\tvalidation_data=(x_test, x_test),\n",
    "\tepochs=20,\n",
    "\tbatch_size=64)"
   ]
  },
  {
   "cell_type": "code",
   "execution_count": null,
   "metadata": {
    "colab": {
     "base_uri": "https://localhost:8080/",
     "height": 312
    },
    "colab_type": "code",
    "id": "CMXGGo087ygm",
    "outputId": "675819f9-e53f-4c8f-884a-5ad22d21bb8f"
   },
   "outputs": [],
   "source": [
    "N = range(0, 20)\n",
    "plt.figure()\n",
    "plt.plot(N, H.history[\"loss\"], label=\"train_loss\")\n",
    "plt.plot(N, H.history[\"val_loss\"], label=\"val_loss\")\n",
    "plt.title(\"Training Loss\")\n",
    "plt.xlabel(\"Epoch #\")\n",
    "plt.ylabel(\"Loss\")\n",
    "plt.legend(loc=\"lower left\")"
   ]
  },
  {
   "cell_type": "code",
   "execution_count": null,
   "metadata": {
    "colab": {
     "base_uri": "https://localhost:8080/",
     "height": 312
    },
    "colab_type": "code",
    "id": "v7NK6xQh7ylc",
    "outputId": "d6d8103d-fe1a-4ab3-b114-3ce86faaad14"
   },
   "outputs": [],
   "source": [
    "N = range(0, 20)\n",
    "plt.figure()\n",
    "plt.plot(N, H.history[\"mae\"], label=\"train_mae\")\n",
    "plt.plot(N, H.history[\"val_mae\"], label=\"val_mae\")\n",
    "plt.title(\"Training MAE\")\n",
    "plt.xlabel(\"Epoch #\")\n",
    "plt.ylabel(\"MAE\")\n",
    "plt.legend(loc=\"lower left\")"
   ]
  },
  {
   "cell_type": "code",
   "execution_count": null,
   "metadata": {
    "colab": {},
    "colab_type": "code",
    "id": "M9g7O-yp7ynq"
   },
   "outputs": [],
   "source": [
    "reconstruct = autoencoder.predict(x_test)"
   ]
  },
  {
   "cell_type": "code",
   "execution_count": null,
   "metadata": {
    "colab": {
     "base_uri": "https://localhost:8080/",
     "height": 34
    },
    "colab_type": "code",
    "id": "Y_5Wy56P-FhC",
    "outputId": "e5bd171c-8f6a-4efd-8a81-20e7e241bd75"
   },
   "outputs": [],
   "source": [
    "reconstruct.shape"
   ]
  },
  {
   "cell_type": "code",
   "execution_count": null,
   "metadata": {
    "colab": {
     "base_uri": "https://localhost:8080/",
     "height": 434
    },
    "colab_type": "code",
    "id": "EfDHXoz3-Fjy",
    "outputId": "937c1159-d0d9-4549-8710-d0ebf5dd2fa1"
   },
   "outputs": [],
   "source": [
    "import numpy as np\n",
    "\n",
    "n_rows = 4\n",
    "n_cols = 10\n",
    "plt.figure(figsize=(n_cols * 2, n_rows * 2))\n",
    "for row in range(n_rows):\n",
    "    for col in range(n_cols):\n",
    "        index = n_cols * row + col\n",
    "        plt.subplot(n_rows, n_cols, index + 1)\n",
    "        plt.imshow(np.concatenate((x_test[index], reconstruct[index]), axis=1), cmap=\"gray\", interpolation=\"nearest\")\n",
    "        plt.axis('off')\n",
    "plt.subplots_adjust(wspace=0.2, hspace=0.5)\n",
    "plt.show()"
   ]
  },
  {
   "cell_type": "code",
   "execution_count": null,
   "metadata": {
    "colab": {
     "base_uri": "https://localhost:8080/",
     "height": 118
    },
    "colab_type": "code",
    "id": "D4S-0nU_A2c_",
    "outputId": "ba7e8a8a-86ff-4739-f52e-977711556837"
   },
   "outputs": [],
   "source": [
    "autoencoder.layers"
   ]
  },
  {
   "cell_type": "code",
   "execution_count": null,
   "metadata": {
    "colab": {
     "base_uri": "https://localhost:8080/",
     "height": 353
    },
    "colab_type": "code",
    "id": "jV_Eu_4EBFwG",
    "outputId": "47d730e5-6e72-4b20-beb6-aaad6bc70920"
   },
   "outputs": [],
   "source": [
    "autoencoder.summary()"
   ]
  },
  {
   "cell_type": "code",
   "execution_count": null,
   "metadata": {
    "colab": {},
    "colab_type": "code",
    "id": "dQ2yxAx9-FfL"
   },
   "outputs": [],
   "source": [
    "encoder = keras.models.Model(autoencoder.layers[0].input , autoencoder.layers[2].output)"
   ]
  },
  {
   "cell_type": "code",
   "execution_count": null,
   "metadata": {
    "colab": {
     "base_uri": "https://localhost:8080/",
     "height": 286
    },
    "colab_type": "code",
    "id": "IMoEQQ4yAoSw",
    "outputId": "ab6de29d-3b81-4c24-ca32-8535093e5f18"
   },
   "outputs": [],
   "source": [
    "encoder.summary()"
   ]
  },
  {
   "cell_type": "code",
   "execution_count": null,
   "metadata": {
    "colab": {},
    "colab_type": "code",
    "id": "pDibfFjXBQh5"
   },
   "outputs": [],
   "source": [
    "encoded = encoder.predict(x_test)"
   ]
  },
  {
   "cell_type": "code",
   "execution_count": null,
   "metadata": {
    "colab": {
     "base_uri": "https://localhost:8080/",
     "height": 34
    },
    "colab_type": "code",
    "id": "-TqV88pvB8O0",
    "outputId": "b97e8915-a5fd-4793-d6d7-339097b634b6"
   },
   "outputs": [],
   "source": [
    "encoded.shape"
   ]
  },
  {
   "cell_type": "markdown",
   "metadata": {
    "colab_type": "text",
    "id": "ozOnsx4SCqQc"
   },
   "source": [
    "# Denoising"
   ]
  },
  {
   "cell_type": "code",
   "execution_count": null,
   "metadata": {
    "colab": {},
    "colab_type": "code",
    "id": "g5-Rua_xB93H"
   },
   "outputs": [],
   "source": [
    "# sample noise from a random normal distribution centered at 0.5 (since\n",
    "# our images lie in the range [0, 1]) and a standard deviation of 0.5\n",
    "\n",
    "trainNoise = np.random.normal(loc=0.5, scale=0.5, size=x_train.shape)\n",
    "testNoise = np.random.normal(loc=0.5, scale=0.5, size=x_test.shape)\n",
    "x_trainNoisy = np.clip(x_train + trainNoise, 0, 1)\n",
    "x_testNoisy = np.clip(x_test + testNoise, 0, 1)"
   ]
  },
  {
   "cell_type": "code",
   "execution_count": null,
   "metadata": {
    "colab": {
     "base_uri": "https://localhost:8080/",
     "height": 434
    },
    "colab_type": "code",
    "id": "7SURKuFYC7kA",
    "outputId": "b2949801-a4fe-4a0d-e415-c3d0981b9154"
   },
   "outputs": [],
   "source": [
    "import numpy as np\n",
    "\n",
    "n_rows = 4\n",
    "n_cols = 10\n",
    "plt.figure(figsize=(n_cols * 2, n_rows * 2))\n",
    "for row in range(n_rows):\n",
    "    for col in range(n_cols):\n",
    "        index = n_cols * row + col\n",
    "        plt.subplot(n_rows, n_cols, index + 1)\n",
    "        plt.imshow(np.concatenate((x_train[index], x_trainNoisy[index]), axis=1), cmap=\"gray\", interpolation=\"nearest\")\n",
    "        plt.axis('off')\n",
    "plt.subplots_adjust(wspace=0.2, hspace=0.5)\n",
    "plt.show()"
   ]
  },
  {
   "cell_type": "code",
   "execution_count": null,
   "metadata": {
    "colab": {},
    "colab_type": "code",
    "id": "gEmYHbObC8JG"
   },
   "outputs": [],
   "source": [
    "autoencoder = keras.models.Sequential()\n",
    "autoencoder.add(keras.layers.Flatten(input_shape=x_train.shape[1:]))\n",
    "autoencoder.add(keras.layers.Dense(128, activation=\"relu\"))\n",
    "autoencoder.add(keras.layers.Dense(50, activation=\"relu\"))\n",
    "autoencoder.add(keras.layers.Dense(128, activation=\"relu\"))\n",
    "autoencoder.add(keras.layers.Dense(x_train.shape[1]*x_train.shape[2], activation=\"relu\"))\n",
    "autoencoder.add(keras.layers.Reshape(x_train.shape[1:]))\n",
    "\n",
    "autoencoder.compile(loss=\"mse\",\n",
    "              optimizer=\"adam\",\n",
    "              metrics=[\"mae\"])"
   ]
  },
  {
   "cell_type": "code",
   "execution_count": null,
   "metadata": {
    "colab": {
     "base_uri": "https://localhost:8080/",
     "height": 689
    },
    "colab_type": "code",
    "id": "wohwe9zNC8L6",
    "outputId": "97f35e12-9dc7-47a0-c74c-ea60f01db931"
   },
   "outputs": [],
   "source": [
    "H = autoencoder.fit(\n",
    "\tx_train, x_trainNoisy,\n",
    "\tvalidation_data=(x_test, x_testNoisy),\n",
    "\tepochs=20,\n",
    "\tbatch_size=64)"
   ]
  },
  {
   "cell_type": "code",
   "execution_count": null,
   "metadata": {
    "colab": {
     "base_uri": "https://localhost:8080/",
     "height": 590
    },
    "colab_type": "code",
    "id": "zhCyw1iiC8Q_",
    "outputId": "c3868dff-afd4-464b-c208-1a131b3b400e"
   },
   "outputs": [],
   "source": [
    "N = range(0, 20)\n",
    "plt.figure()\n",
    "plt.plot(N, H.history[\"loss\"], label=\"train_loss\")\n",
    "plt.plot(N, H.history[\"val_loss\"], label=\"val_loss\")\n",
    "plt.title(\"Training Loss\")\n",
    "plt.xlabel(\"Epoch #\")\n",
    "plt.ylabel(\"Loss\")\n",
    "plt.legend(loc=\"lower left\")\n",
    "\n",
    "N = range(0, 20)\n",
    "plt.figure()\n",
    "plt.plot(N, H.history[\"mae\"], label=\"train_mae\")\n",
    "plt.plot(N, H.history[\"val_mae\"], label=\"val_mae\")\n",
    "plt.title(\"Training MAE\")\n",
    "plt.xlabel(\"Epoch #\")\n",
    "plt.ylabel(\"MAE\")\n",
    "plt.legend(loc=\"lower left\")"
   ]
  },
  {
   "cell_type": "code",
   "execution_count": null,
   "metadata": {
    "colab": {
     "base_uri": "https://localhost:8080/",
     "height": 434
    },
    "colab_type": "code",
    "id": "qrS7kPPIC8Tc",
    "outputId": "60b18548-bbdb-4718-8412-1d8aac0e1ab7"
   },
   "outputs": [],
   "source": [
    "denoised = autoencoder.predict(x_test)\n",
    "\n",
    "n_rows = 4\n",
    "n_cols = 10\n",
    "plt.figure(figsize=(n_cols * 2, n_rows * 2))\n",
    "for row in range(n_rows):\n",
    "    for col in range(n_cols):\n",
    "        index = n_cols * row + col\n",
    "        plt.subplot(n_rows, n_cols, index + 1)\n",
    "        plt.imshow(np.concatenate((x_testNoisy[index], denoised[index]), axis=1), cmap=\"gray\", interpolation=\"nearest\")\n",
    "        plt.axis('off')\n",
    "plt.subplots_adjust(wspace=0.2, hspace=0.5)\n",
    "plt.show()"
   ]
  },
  {
   "cell_type": "markdown",
   "metadata": {
    "colab_type": "text",
    "id": "gt-ryfgRFaPQ"
   },
   "source": [
    "# Anomaly Detection"
   ]
  },
  {
   "cell_type": "code",
   "execution_count": null,
   "metadata": {
    "colab": {
     "base_uri": "https://localhost:8080/",
     "height": 1000
    },
    "colab_type": "code",
    "id": "vKYnmVHaC8O6",
    "outputId": "b69c0793-a98f-4c70-9357-9bb5d81c78e2"
   },
   "outputs": [],
   "source": [
    "autoencoder = keras.models.Sequential()\n",
    "autoencoder.add(keras.layers.Flatten(input_shape=x_train.shape[1:]))\n",
    "autoencoder.add(keras.layers.Dense(256, activation=\"relu\"))\n",
    "autoencoder.add(keras.layers.Dense(128, activation=\"relu\"))\n",
    "autoencoder.add(keras.layers.Dense(100, activation=\"relu\"))\n",
    "autoencoder.add(keras.layers.Dense(128, activation=\"relu\"))\n",
    "autoencoder.add(keras.layers.Dense(256, activation=\"relu\"))\n",
    "autoencoder.add(keras.layers.Dense(x_train.shape[1]*x_train.shape[2], activation=\"relu\"))\n",
    "autoencoder.add(keras.layers.Reshape(x_train.shape[1:]))\n",
    "\n",
    "autoencoder.compile(loss=\"mse\",\n",
    "              optimizer=\"adam\",\n",
    "              metrics=[\"mae\"])\n",
    "\n",
    "H = autoencoder.fit(\n",
    "\tx_train, x_train,\n",
    "\tvalidation_data=(x_test, x_test),\n",
    "\tepochs=40,\n",
    "\tbatch_size=512)"
   ]
  },
  {
   "cell_type": "code",
   "execution_count": null,
   "metadata": {
    "colab": {
     "base_uri": "https://localhost:8080/",
     "height": 590
    },
    "colab_type": "code",
    "id": "XnV3NLN9ECTp",
    "outputId": "a5bd46f0-d663-4104-eaca-008355aa1bf3"
   },
   "outputs": [],
   "source": [
    "N = range(0, 40)\n",
    "plt.figure()\n",
    "plt.plot(N, H.history[\"loss\"], label=\"train_loss\")\n",
    "plt.plot(N, H.history[\"val_loss\"], label=\"val_loss\")\n",
    "plt.title(\"Training Loss\")\n",
    "plt.xlabel(\"Epoch #\")\n",
    "plt.ylabel(\"Loss\")\n",
    "plt.legend(loc=\"lower left\")\n",
    "\n",
    "plt.figure()\n",
    "plt.plot(N, H.history[\"mae\"], label=\"train_mae\")\n",
    "plt.plot(N, H.history[\"val_mae\"], label=\"val_mae\")\n",
    "plt.title(\"Training MAE\")\n",
    "plt.xlabel(\"Epoch #\")\n",
    "plt.ylabel(\"MAE\")\n",
    "plt.legend(loc=\"lower left\")"
   ]
  },
  {
   "cell_type": "code",
   "execution_count": null,
   "metadata": {
    "colab": {
     "base_uri": "https://localhost:8080/",
     "height": 434
    },
    "colab_type": "code",
    "id": "BgMwkzdjECV7",
    "outputId": "0aa43191-6548-471c-8f64-a901dc06bdb1"
   },
   "outputs": [],
   "source": [
    "reconstruct = autoencoder.predict(x_test)\n",
    "\n",
    "n_rows = 4\n",
    "n_cols = 10\n",
    "plt.figure(figsize=(n_cols * 2, n_rows * 2))\n",
    "for row in range(n_rows):\n",
    "    for col in range(n_cols):\n",
    "        index = n_cols * row + col\n",
    "        plt.subplot(n_rows, n_cols, index + 1)\n",
    "        plt.imshow(np.concatenate((x_test[index], reconstruct[index]), axis=1), cmap=\"gray\", interpolation=\"nearest\")\n",
    "        plt.axis('off')\n",
    "plt.subplots_adjust(wspace=0.2, hspace=0.5)\n",
    "plt.show()"
   ]
  },
  {
   "cell_type": "code",
   "execution_count": null,
   "metadata": {
    "colab": {
     "base_uri": "https://localhost:8080/",
     "height": 34
    },
    "colab_type": "code",
    "id": "6sBF08QSJm8H",
    "outputId": "52a117bd-1211-4b31-bdad-d46e6b0c0608"
   },
   "outputs": [],
   "source": [
    "np.abs(autoencoder.predict(x_train) - x_train).sum() / (len(x_train)*28*28)"
   ]
  },
  {
   "cell_type": "code",
   "execution_count": null,
   "metadata": {
    "colab": {
     "base_uri": "https://localhost:8080/",
     "height": 34
    },
    "colab_type": "code",
    "id": "n-9PZD8hJT3G",
    "outputId": "2ced7118-79d1-49ec-b645-6e7b3848fdfe"
   },
   "outputs": [],
   "source": [
    "np.abs(autoencoder.predict(x_test) - x_test).sum() / (len(x_test)*28*28)"
   ]
  },
  {
   "cell_type": "code",
   "execution_count": null,
   "metadata": {
    "colab": {
     "base_uri": "https://localhost:8080/",
     "height": 282
    },
    "colab_type": "code",
    "id": "x1gFNLsTGWtT",
    "outputId": "84e1df5b-12b0-40ea-9416-77c69c1e2499"
   },
   "outputs": [],
   "source": [
    "plt.imshow(x_test[0], cmap='gray')"
   ]
  },
  {
   "cell_type": "code",
   "execution_count": null,
   "metadata": {
    "colab": {
     "base_uri": "https://localhost:8080/",
     "height": 282
    },
    "colab_type": "code",
    "id": "lyu3etFNGluu",
    "outputId": "bf0f859d-c3d4-46ed-adfa-ae90b658eadc"
   },
   "outputs": [],
   "source": [
    "plt.imshow(x_testNoisy[0], cmap='gray')"
   ]
  },
  {
   "cell_type": "code",
   "execution_count": null,
   "metadata": {
    "colab": {
     "base_uri": "https://localhost:8080/",
     "height": 34
    },
    "colab_type": "code",
    "id": "_hOVXd0-Glyd",
    "outputId": "3ee531b7-267c-46e8-c12a-b33fd126017f"
   },
   "outputs": [],
   "source": [
    "anomaly = autoencoder.predict(x_testNoisy[0].reshape(1, 28, 28))\n",
    "anomaly.shape"
   ]
  },
  {
   "cell_type": "code",
   "execution_count": null,
   "metadata": {
    "colab": {
     "base_uri": "https://localhost:8080/",
     "height": 282
    },
    "colab_type": "code",
    "id": "56Z5cARMHgnW",
    "outputId": "67b61388-b998-4f5d-c7f2-6e56f379c4f8"
   },
   "outputs": [],
   "source": [
    "plt.imshow(anomaly.squeeze(), cmap='gray')"
   ]
  },
  {
   "cell_type": "code",
   "execution_count": null,
   "metadata": {
    "colab": {
     "base_uri": "https://localhost:8080/",
     "height": 34
    },
    "colab_type": "code",
    "id": "8QivPML_G845",
    "outputId": "111fbc1d-ad43-455b-9631-c111851d7771"
   },
   "outputs": [],
   "source": [
    "np.abs(autoencoder.predict(x_testNoisy[0].reshape(1, 28, 28)) - x_test[0]).sum() / (28*28)"
   ]
  },
  {
   "cell_type": "code",
   "execution_count": null,
   "metadata": {
    "colab": {},
    "colab_type": "code",
    "id": "ZrNLt-p0KAi7"
   },
   "outputs": [],
   "source": []
  }
 ],
 "metadata": {
  "accelerator": "GPU",
  "colab": {
   "collapsed_sections": [],
   "name": "31_autoencoders.ipynb",
   "provenance": []
  },
  "kernelspec": {
   "display_name": "Python 3",
   "language": "python",
   "name": "python3"
  },
  "language_info": {
   "codemirror_mode": {
    "name": "ipython",
    "version": 3
   },
   "file_extension": ".py",
   "mimetype": "text/x-python",
   "name": "python",
   "nbconvert_exporter": "python",
   "pygments_lexer": "ipython3",
   "version": "3.6.5"
  }
 },
 "nbformat": 4,
 "nbformat_minor": 1
}
