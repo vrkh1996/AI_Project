{
 "cells": [
  {
   "cell_type": "code",
   "execution_count": null,
   "metadata": {},
   "outputs": [],
   "source": [
    "import os\n",
    "import numpy as np\n",
    "import cv2"
   ]
  },
  {
   "cell_type": "code",
   "execution_count": null,
   "metadata": {},
   "outputs": [],
   "source": [
    "!wget http://cs231n.stanford.edu/tiny-imagenet-200.zip"
   ]
  },
  {
   "cell_type": "code",
   "execution_count": null,
   "metadata": {},
   "outputs": [],
   "source": [
    "!unzip -qq tiny-imagenet-200.zip"
   ]
  },
  {
   "cell_type": "code",
   "execution_count": null,
   "metadata": {},
   "outputs": [],
   "source": [
    "def get_annotations_map():\n",
    "    valAnnotationsPath = './tiny-imagenet-200/val/val_annotations.txt'\n",
    "    valAnnotationsFile = open(valAnnotationsPath, 'r')\n",
    "    valAnnotationsContents = valAnnotationsFile.read()\n",
    "    valAnnotations = {}\n",
    "\n",
    "    for line in valAnnotationsContents.splitlines():\n",
    "        pieces = line.strip().split()\n",
    "        valAnnotations[pieces[0]] = pieces[1]\n",
    "\n",
    "    return valAnnotations\n",
    "\n",
    "\n",
    "def load_images(path, num_classes):\n",
    "    #Load images\n",
    "\n",
    "    X_train=np.zeros([num_classes * 500, 64, 64, 3], dtype='float32')\n",
    "    y_train=np.zeros([num_classes * 500], dtype='float32')\n",
    "\n",
    "    trainPath=path+'/train'\n",
    "\n",
    "    print('loading training images...');\n",
    "\n",
    "    i = 0\n",
    "    j = 0\n",
    "    annotations={}\n",
    "    for sChild in os.listdir(trainPath):\n",
    "        sChildPath = os.path.join(os.path.join(trainPath,sChild),'images')\n",
    "        annotations[sChild] = j\n",
    "        for c in os.listdir(sChildPath):\n",
    "            X_train[i] = cv2.imread(os.path.join(sChildPath,c))\n",
    "            y_train[i] = j\n",
    "            i += 1\n",
    "        j += 1\n",
    "        if (j >= num_classes):\n",
    "            break\n",
    "\n",
    "    val_annotations_map = get_annotations_map()\n",
    "\n",
    "    X_test = np.zeros([num_classes*50,64,64,3],dtype='float32')\n",
    "    y_test = np.zeros([num_classes*50], dtype='float32')\n",
    "\n",
    "\n",
    "    print('loading test images...')\n",
    "\n",
    "    i = 0\n",
    "    testPath=path+'/val/images'\n",
    "    for sChild in os.listdir(testPath):\n",
    "        if val_annotations_map[sChild] in annotations.keys():\n",
    "            sChildPath = os.path.join(testPath, sChild)\n",
    "            X_test[i] = cv2.imread(sChildPath)\n",
    "            y_test[i] = annotations[val_annotations_map[sChild]]\n",
    "            i += 1\n",
    "        else:\n",
    "            pass\n",
    "\n",
    "    return X_train, y_train, X_test, y_test"
   ]
  },
  {
   "cell_type": "code",
   "execution_count": null,
   "metadata": {},
   "outputs": [],
   "source": [
    "num_classes = 200\n",
    "path='./tiny-imagenet-200'"
   ]
  },
  {
   "cell_type": "code",
   "execution_count": null,
   "metadata": {},
   "outputs": [],
   "source": [
    "x_train, y_train, x_test, y_test = load_images(path, num_classes)"
   ]
  },
  {
   "cell_type": "code",
   "execution_count": null,
   "metadata": {},
   "outputs": [],
   "source": [
    "x_train = x_train.astype('float32')\n",
    "x_test = x_test.astype('float32')\n",
    "x_train /= 255\n",
    "x_test /= 255\n",
    "\n",
    "# Convert class vectors to binary class matrices.\n",
    "y_train = keras.utils.to_categorical(y_train, num_classes)\n",
    "y_test = keras.utils.to_categorical(y_test, num_classes)"
   ]
  },
  {
   "cell_type": "code",
   "execution_count": null,
   "metadata": {},
   "outputs": [],
   "source": [
    "from tensorflow import keras\n",
    "\n",
    "# Build and train model\n",
    "\n",
    "#  Your Code Here #\n",
    "\n",
    "\n",
    "\n",
    "\n",
    "\n",
    "# End #"
   ]
  },
  {
   "cell_type": "code",
   "execution_count": null,
   "metadata": {},
   "outputs": [],
   "source": [
    "# test the model\n",
    "\n",
    "#  Your Code Here #\n",
    "\n",
    "\n",
    "\n",
    "\n",
    "\n",
    "# End #"
   ]
  },
  {
   "cell_type": "code",
   "execution_count": null,
   "metadata": {},
   "outputs": [],
   "source": []
  },
  {
   "cell_type": "code",
   "execution_count": null,
   "metadata": {},
   "outputs": [],
   "source": []
  }
 ],
 "metadata": {
  "kernelspec": {
   "display_name": "Python 3",
   "language": "python",
   "name": "python3"
  },
  "language_info": {
   "codemirror_mode": {
    "name": "ipython",
    "version": 3
   },
   "file_extension": ".py",
   "mimetype": "text/x-python",
   "name": "python",
   "nbconvert_exporter": "python",
   "pygments_lexer": "ipython3",
   "version": "3.7.7"
  }
 },
 "nbformat": 4,
 "nbformat_minor": 2
}
