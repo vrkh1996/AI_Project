{
 "cells": [
  {
   "cell_type": "code",
   "execution_count": 40,
   "metadata": {
    "colab": {
     "base_uri": "https://localhost:8080/",
     "height": 106
    },
    "colab_type": "code",
    "id": "jAXM8VsoJJu0",
    "outputId": "3fc1d293-6a8a-4477-d162-b3ed50003571"
   },
   "outputs": [
    {
     "name": "stdout",
     "output_type": "stream",
     "text": [
      "Cloning into 'DLpipeline'...\n",
      "remote: Enumerating objects: 279, done.\u001b[K\n",
      "remote: Total 279 (delta 0), reused 0 (delta 0), pack-reused 279\u001b[K\n",
      "Receiving objects: 100% (279/279), 1.31 MiB | 8.70 MiB/s, done.\n",
      "Resolving deltas: 100% (161/161), done.\n"
     ]
    }
   ],
   "source": [
    "!git clone https://github.com/miguelperezenciso/DLpipeline.git/"
   ]
  },
  {
   "cell_type": "code",
   "execution_count": 0,
   "metadata": {
    "colab": {},
    "colab_type": "code",
    "id": "HynP6mBSJYiH"
   },
   "outputs": [],
   "source": [
    "!mv DLpipeline/DATA ./"
   ]
  },
  {
   "cell_type": "code",
   "execution_count": 0,
   "metadata": {
    "colab": {},
    "colab_type": "code",
    "id": "ak8bO1JEJM_H"
   },
   "outputs": [],
   "source": [
    "# Load modules needed\n",
    "import numpy as np\n",
    "import pandas as pd\n",
    "from sklearn.model_selection import train_test_split\n",
    "\n",
    "# keras items \n",
    "from keras.models import Sequential\n",
    "from keras.layers import Dense, Activation\n",
    "\n",
    "# Load the dataset as a pandas data frame\n",
    "# X is a N by nSNP array with SNP genotypes\n",
    "X = pd.read_csv('DATA/wheat.X', header=None, sep='\\s+')\n",
    "# Y is a N b nTRAIT array with phenotypes\n",
    "Y = pd.read_csv('DATA/wheat.Y', header=None, sep='\\s+')\n",
    "# The first trait is analyzed\n",
    "y = Y[0] \n",
    "\n",
    "# Data partitioning into train and test (20%)\n",
    "X_train, X_test, y_train, y_test = train_test_split(X, y, test_size=0.2, random_state=42)\n",
    "\n",
    "# no. of SNPs in data\n",
    "nSNP = X_train.shape[1] "
   ]
  },
  {
   "cell_type": "code",
   "execution_count": 43,
   "metadata": {
    "colab": {
     "base_uri": "https://localhost:8080/",
     "height": 337
    },
    "colab_type": "code",
    "id": "GNwKcA96JkG2",
    "outputId": "65357a31-4f3c-44fa-e2be-bb60b0a2a782"
   },
   "outputs": [
    {
     "name": "stdout",
     "output_type": "stream",
     "text": [
      "Model: \"sequential_10\"\n",
      "_________________________________________________________________\n",
      "Layer (type)                 Output Shape              Param #   \n",
      "=================================================================\n",
      "dense_32 (Dense)             (None, 64)                81920     \n",
      "_________________________________________________________________\n",
      "activation_23 (Activation)   (None, 64)                0         \n",
      "_________________________________________________________________\n",
      "dense_33 (Dense)             (None, 32)                2080      \n",
      "_________________________________________________________________\n",
      "activation_24 (Activation)   (None, 32)                0         \n",
      "_________________________________________________________________\n",
      "dense_34 (Dense)             (None, 1)                 33        \n",
      "=================================================================\n",
      "Total params: 84,033\n",
      "Trainable params: 84,033\n",
      "Non-trainable params: 0\n",
      "_________________________________________________________________\n"
     ]
    }
   ],
   "source": [
    "# Instantiate model\n",
    "model = Sequential()\n",
    "\n",
    "# (We assume optimum DL configuration has been determined)\n",
    "# Add first layer containing 64 neurons\n",
    "model.add(Dense(64, input_dim=nSNP))\n",
    "model.add(Activation('relu'))\n",
    "# Add second layer, with 32 neurons\n",
    "model.add(Dense(32))\n",
    "model.add(Activation('relu'))\n",
    "# Last, output layer contains one neuron (ie, target is a real numeric value)\n",
    "model.add(Dense(1))\n",
    "\n",
    "# Model Compiling \n",
    "model.compile(loss='mean_squared_error', optimizer='sgd')\n",
    "\n",
    "# list some properties of the network\n",
    "model.summary()"
   ]
  },
  {
   "cell_type": "code",
   "execution_count": 44,
   "metadata": {
    "colab": {
     "base_uri": "https://localhost:8080/",
     "height": 1000
    },
    "colab_type": "code",
    "id": "Cxj47-F9Jk7I",
    "outputId": "e065f942-ebc7-4787-ac10-282a42b145e6"
   },
   "outputs": [
    {
     "name": "stdout",
     "output_type": "stream",
     "text": [
      "Epoch 1/60\n",
      "479/479 [==============================] - 0s 234us/step - loss: 2.5541\n",
      "Epoch 2/60\n",
      "479/479 [==============================] - 0s 108us/step - loss: 0.9776\n",
      "Epoch 3/60\n",
      "479/479 [==============================] - 0s 111us/step - loss: 0.9442\n",
      "Epoch 4/60\n",
      "479/479 [==============================] - 0s 115us/step - loss: 0.9270\n",
      "Epoch 5/60\n",
      "479/479 [==============================] - 0s 113us/step - loss: 0.9012\n",
      "Epoch 6/60\n",
      "479/479 [==============================] - 0s 142us/step - loss: 0.9364\n",
      "Epoch 7/60\n",
      "479/479 [==============================] - 0s 147us/step - loss: 0.8865\n",
      "Epoch 8/60\n",
      "479/479 [==============================] - 0s 121us/step - loss: 0.8530\n",
      "Epoch 9/60\n",
      "479/479 [==============================] - 0s 138us/step - loss: 0.8113\n",
      "Epoch 10/60\n",
      "479/479 [==============================] - 0s 129us/step - loss: 0.8369\n",
      "Epoch 11/60\n",
      "479/479 [==============================] - 0s 118us/step - loss: 0.8435\n",
      "Epoch 12/60\n",
      "479/479 [==============================] - 0s 141us/step - loss: 0.8413\n",
      "Epoch 13/60\n",
      "479/479 [==============================] - 0s 120us/step - loss: 0.8026\n",
      "Epoch 14/60\n",
      "479/479 [==============================] - 0s 119us/step - loss: 0.7629\n",
      "Epoch 15/60\n",
      "479/479 [==============================] - 0s 120us/step - loss: 0.7155\n",
      "Epoch 16/60\n",
      "479/479 [==============================] - 0s 108us/step - loss: 0.7101\n",
      "Epoch 17/60\n",
      "479/479 [==============================] - 0s 138us/step - loss: 0.7673\n",
      "Epoch 18/60\n",
      "479/479 [==============================] - 0s 143us/step - loss: 0.6844\n",
      "Epoch 19/60\n",
      "479/479 [==============================] - 0s 111us/step - loss: 0.7163\n",
      "Epoch 20/60\n",
      "479/479 [==============================] - 0s 122us/step - loss: 0.7380\n",
      "Epoch 21/60\n",
      "479/479 [==============================] - 0s 125us/step - loss: 0.5346\n",
      "Epoch 22/60\n",
      "479/479 [==============================] - 0s 141us/step - loss: 0.5444\n",
      "Epoch 23/60\n",
      "479/479 [==============================] - 0s 110us/step - loss: 0.6366\n",
      "Epoch 24/60\n",
      "479/479 [==============================] - 0s 115us/step - loss: 0.7005\n",
      "Epoch 25/60\n",
      "479/479 [==============================] - 0s 159us/step - loss: 0.5369\n",
      "Epoch 26/60\n",
      "479/479 [==============================] - 0s 150us/step - loss: 0.5085\n",
      "Epoch 27/60\n",
      "479/479 [==============================] - 0s 135us/step - loss: 0.5864\n",
      "Epoch 28/60\n",
      "479/479 [==============================] - 0s 138us/step - loss: 0.5068\n",
      "Epoch 29/60\n",
      "479/479 [==============================] - 0s 113us/step - loss: 0.5943\n",
      "Epoch 30/60\n",
      "479/479 [==============================] - 0s 116us/step - loss: 0.4828\n",
      "Epoch 31/60\n",
      "479/479 [==============================] - 0s 112us/step - loss: 0.4357\n",
      "Epoch 32/60\n",
      "479/479 [==============================] - 0s 145us/step - loss: 0.5676\n",
      "Epoch 33/60\n",
      "479/479 [==============================] - 0s 111us/step - loss: 0.4903\n",
      "Epoch 34/60\n",
      "479/479 [==============================] - 0s 138us/step - loss: 0.4332\n",
      "Epoch 35/60\n",
      "479/479 [==============================] - 0s 116us/step - loss: 0.4475\n",
      "Epoch 36/60\n",
      "479/479 [==============================] - 0s 119us/step - loss: 0.3967\n",
      "Epoch 37/60\n",
      "479/479 [==============================] - 0s 116us/step - loss: 0.3731\n",
      "Epoch 38/60\n",
      "479/479 [==============================] - 0s 148us/step - loss: 0.3958\n",
      "Epoch 39/60\n",
      "479/479 [==============================] - 0s 119us/step - loss: 0.3315\n",
      "Epoch 40/60\n",
      "479/479 [==============================] - 0s 110us/step - loss: 0.4515\n",
      "Epoch 41/60\n",
      "479/479 [==============================] - 0s 118us/step - loss: 0.4208\n",
      "Epoch 42/60\n",
      "479/479 [==============================] - 0s 112us/step - loss: 0.2972\n",
      "Epoch 43/60\n",
      "479/479 [==============================] - 0s 154us/step - loss: 0.3500\n",
      "Epoch 44/60\n",
      "479/479 [==============================] - 0s 123us/step - loss: 0.4151\n",
      "Epoch 45/60\n",
      "479/479 [==============================] - 0s 150us/step - loss: 0.3278\n",
      "Epoch 46/60\n",
      "479/479 [==============================] - 0s 156us/step - loss: 0.4070\n",
      "Epoch 47/60\n",
      "479/479 [==============================] - 0s 134us/step - loss: 0.2458\n",
      "Epoch 48/60\n",
      "479/479 [==============================] - 0s 124us/step - loss: 0.2767\n",
      "Epoch 49/60\n",
      "479/479 [==============================] - 0s 118us/step - loss: 0.3358\n",
      "Epoch 50/60\n",
      "479/479 [==============================] - 0s 111us/step - loss: 0.2449\n",
      "Epoch 51/60\n",
      "479/479 [==============================] - 0s 118us/step - loss: 0.3112\n",
      "Epoch 52/60\n",
      "479/479 [==============================] - 0s 161us/step - loss: 0.3142\n",
      "Epoch 53/60\n",
      "479/479 [==============================] - 0s 112us/step - loss: 0.2446\n",
      "Epoch 54/60\n",
      "479/479 [==============================] - 0s 144us/step - loss: 0.2254\n",
      "Epoch 55/60\n",
      "479/479 [==============================] - 0s 126us/step - loss: 0.2454\n",
      "Epoch 56/60\n",
      "479/479 [==============================] - 0s 110us/step - loss: 0.3619\n",
      "Epoch 57/60\n",
      "479/479 [==============================] - 0s 117us/step - loss: 0.2298\n",
      "Epoch 58/60\n",
      "479/479 [==============================] - 0s 114us/step - loss: 0.2717\n",
      "Epoch 59/60\n",
      "479/479 [==============================] - 0s 114us/step - loss: 0.1869\n",
      "Epoch 60/60\n",
      "479/479 [==============================] - 0s 141us/step - loss: 0.2522\n"
     ]
    },
    {
     "data": {
      "text/plain": [
       "<keras.callbacks.callbacks.History at 0x7f2b701d9cc0>"
      ]
     },
     "execution_count": 44,
     "metadata": {
      "tags": []
     },
     "output_type": "execute_result"
    }
   ],
   "source": [
    "# Training\n",
    "model.fit(X_train, y_train, epochs=60)"
   ]
  },
  {
   "cell_type": "code",
   "execution_count": 45,
   "metadata": {
    "colab": {
     "base_uri": "https://localhost:8080/",
     "height": 52
    },
    "colab_type": "code",
    "id": "YNQlhSU_Jk9Y",
    "outputId": "e233e735-bbbd-4c48-bf33-3fe4e8d1d450"
   },
   "outputs": [
    {
     "name": "stdout",
     "output_type": "stream",
     "text": [
      "120/120 [==============================] - 0s 223us/step\n"
     ]
    },
    {
     "data": {
      "text/plain": [
       "0.7836752891540527"
      ]
     },
     "execution_count": 45,
     "metadata": {
      "tags": []
     },
     "output_type": "execute_result"
    }
   ],
   "source": [
    "# Computes squared error in prediction\n",
    "mse_prediction = model.evaluate(X_test, y_test)\n",
    "mse_prediction"
   ]
  },
  {
   "cell_type": "code",
   "execution_count": 0,
   "metadata": {
    "colab": {},
    "colab_type": "code",
    "id": "aZfybd-iLINm"
   },
   "outputs": [],
   "source": [
    "# Load modules needed\n",
    "import numpy as np\n",
    "import pandas as pd\n",
    "from sklearn.model_selection import train_test_split\n",
    "\n",
    "# keras items \n",
    "from keras.models import Sequential\n",
    "from keras.layers import Dense, Activation\n",
    "\n",
    "# Load the dataset as a pandas data frame\n",
    "# X is a N by nSNP array with SNP genotypes\n",
    "X = pd.read_csv('DATA/wheat.X', header=None, sep='\\s+')\n",
    "# Y is a N b nTRAIT array with phenotypes\n",
    "Y = pd.read_csv('DATA/wheat.Y', header=None, sep='\\s+')\n",
    "# The first trait is analyzed\n",
    "y = Y[0] \n",
    "\n",
    "# Data partitioning into train and test (20%)\n",
    "X_train, X_test, y_train, y_test = train_test_split(X, y, test_size=0.2, random_state=42)\n",
    "\n",
    "# no. of SNPs in data\n",
    "nSNP = X_train.shape[1] "
   ]
  },
  {
   "cell_type": "code",
   "execution_count": 0,
   "metadata": {
    "colab": {},
    "colab_type": "code",
    "id": "YWN3ISDcJk_2"
   },
   "outputs": [],
   "source": [
    "from keras.models import Sequential\n",
    "from keras.layers import Dense, Activation \n",
    "from keras.layers import Flatten, Conv1D, MaxPooling1D\n",
    "\n",
    "nStride=3 # stride between convolutions\n",
    "nFilter=32 # no. of convolutions\n",
    "\n",
    "model = Sequential()\n",
    "# add convolutional layer\n",
    "model.add(Conv1D(nFilter, \n",
    "kernel_size=3, \n",
    "strides=nStride, \t\t\n",
    "input_shape=(nSNP,1)))\n",
    "# add pooling layer: here takes maximum of two consecutive values\n",
    "model.add(MaxPooling1D(pool_size=2))\n",
    "# Solutions above are linearized to accommodate a standard layer\n",
    "model.add(Flatten())\n",
    "model.add(Dense(64))\n",
    "model.add(Activation('relu'))\n",
    "model.add(Dense(32))\n",
    "model.add(Activation('softplus'))\n",
    "model.add(Dense(1))"
   ]
  },
  {
   "cell_type": "code",
   "execution_count": 48,
   "metadata": {
    "colab": {
     "base_uri": "https://localhost:8080/",
     "height": 444
    },
    "colab_type": "code",
    "id": "p4oLJgnKJlED",
    "outputId": "a1948e75-07f0-47e2-bdac-875d65473254"
   },
   "outputs": [
    {
     "name": "stdout",
     "output_type": "stream",
     "text": [
      "Model: \"sequential_11\"\n",
      "_________________________________________________________________\n",
      "Layer (type)                 Output Shape              Param #   \n",
      "=================================================================\n",
      "conv1d_1 (Conv1D)            (None, 426, 32)           128       \n",
      "_________________________________________________________________\n",
      "max_pooling1d_1 (MaxPooling1 (None, 213, 32)           0         \n",
      "_________________________________________________________________\n",
      "flatten_1 (Flatten)          (None, 6816)              0         \n",
      "_________________________________________________________________\n",
      "dense_35 (Dense)             (None, 64)                436288    \n",
      "_________________________________________________________________\n",
      "activation_25 (Activation)   (None, 64)                0         \n",
      "_________________________________________________________________\n",
      "dense_36 (Dense)             (None, 32)                2080      \n",
      "_________________________________________________________________\n",
      "activation_26 (Activation)   (None, 32)                0         \n",
      "_________________________________________________________________\n",
      "dense_37 (Dense)             (None, 1)                 33        \n",
      "=================================================================\n",
      "Total params: 438,529\n",
      "Trainable params: 438,529\n",
      "Non-trainable params: 0\n",
      "_________________________________________________________________\n"
     ]
    }
   ],
   "source": [
    "# Model Compiling \n",
    "model.compile(loss='mean_squared_error', optimizer='sgd')\n",
    "\n",
    "# list some properties of the network\n",
    "model.summary()"
   ]
  },
  {
   "cell_type": "code",
   "execution_count": 49,
   "metadata": {
    "colab": {
     "base_uri": "https://localhost:8080/",
     "height": 1000
    },
    "colab_type": "code",
    "id": "XB0jGzmpKEWO",
    "outputId": "b708f4bb-fd27-46ed-ba59-7257fb4e5cc8"
   },
   "outputs": [
    {
     "name": "stdout",
     "output_type": "stream",
     "text": [
      "Epoch 1/60\n",
      "479/479 [==============================] - 4s 9ms/step - loss: 0.9948\n",
      "Epoch 2/60\n",
      "479/479 [==============================] - 0s 171us/step - loss: 1.0062\n",
      "Epoch 3/60\n",
      "479/479 [==============================] - 0s 180us/step - loss: 0.9145\n",
      "Epoch 4/60\n",
      "479/479 [==============================] - 0s 165us/step - loss: 0.9232\n",
      "Epoch 5/60\n",
      "479/479 [==============================] - 0s 170us/step - loss: 0.8233\n",
      "Epoch 6/60\n",
      "479/479 [==============================] - 0s 187us/step - loss: 0.7434\n",
      "Epoch 7/60\n",
      "479/479 [==============================] - 0s 174us/step - loss: 0.7433\n",
      "Epoch 8/60\n",
      "479/479 [==============================] - 0s 179us/step - loss: 0.6402\n",
      "Epoch 9/60\n",
      "479/479 [==============================] - 0s 172us/step - loss: 0.6374\n",
      "Epoch 10/60\n",
      "479/479 [==============================] - 0s 176us/step - loss: 0.5802\n",
      "Epoch 11/60\n",
      "479/479 [==============================] - 0s 187us/step - loss: 0.6657\n",
      "Epoch 12/60\n",
      "479/479 [==============================] - 0s 166us/step - loss: 0.5622\n",
      "Epoch 13/60\n",
      "479/479 [==============================] - 0s 169us/step - loss: 0.5923\n",
      "Epoch 14/60\n",
      "479/479 [==============================] - 0s 174us/step - loss: 0.4920\n",
      "Epoch 15/60\n",
      "479/479 [==============================] - 0s 202us/step - loss: 0.4503\n",
      "Epoch 16/60\n",
      "479/479 [==============================] - 0s 177us/step - loss: 0.4176\n",
      "Epoch 17/60\n",
      "479/479 [==============================] - 0s 170us/step - loss: 0.4321\n",
      "Epoch 18/60\n",
      "479/479 [==============================] - 0s 185us/step - loss: 0.3827\n",
      "Epoch 19/60\n",
      "479/479 [==============================] - 0s 172us/step - loss: 0.3721\n",
      "Epoch 20/60\n",
      "479/479 [==============================] - 0s 167us/step - loss: 0.3275\n",
      "Epoch 21/60\n",
      "479/479 [==============================] - 0s 163us/step - loss: 0.3203\n",
      "Epoch 22/60\n",
      "479/479 [==============================] - 0s 177us/step - loss: 0.3483\n",
      "Epoch 23/60\n",
      "479/479 [==============================] - 0s 185us/step - loss: 0.2975\n",
      "Epoch 24/60\n",
      "479/479 [==============================] - 0s 166us/step - loss: 0.2594\n",
      "Epoch 25/60\n",
      "479/479 [==============================] - 0s 164us/step - loss: 0.2983\n",
      "Epoch 26/60\n",
      "479/479 [==============================] - 0s 162us/step - loss: 0.2421\n",
      "Epoch 27/60\n",
      "479/479 [==============================] - 0s 178us/step - loss: 0.2518\n",
      "Epoch 28/60\n",
      "479/479 [==============================] - 0s 165us/step - loss: 0.2179\n",
      "Epoch 29/60\n",
      "479/479 [==============================] - 0s 161us/step - loss: 0.2174\n",
      "Epoch 30/60\n",
      "479/479 [==============================] - 0s 160us/step - loss: 0.2024\n",
      "Epoch 31/60\n",
      "479/479 [==============================] - 0s 162us/step - loss: 0.2362\n",
      "Epoch 32/60\n",
      "479/479 [==============================] - 0s 168us/step - loss: 0.2024\n",
      "Epoch 33/60\n",
      "479/479 [==============================] - 0s 184us/step - loss: 0.1992\n",
      "Epoch 34/60\n",
      "479/479 [==============================] - 0s 176us/step - loss: 0.1577\n",
      "Epoch 35/60\n",
      "479/479 [==============================] - 0s 178us/step - loss: 0.2128\n",
      "Epoch 36/60\n",
      "479/479 [==============================] - 0s 174us/step - loss: 0.1474\n",
      "Epoch 37/60\n",
      "479/479 [==============================] - 0s 162us/step - loss: 0.1324\n",
      "Epoch 38/60\n",
      "479/479 [==============================] - 0s 163us/step - loss: 0.1545\n",
      "Epoch 39/60\n",
      "479/479 [==============================] - 0s 165us/step - loss: 0.1719\n",
      "Epoch 40/60\n",
      "479/479 [==============================] - 0s 167us/step - loss: 0.1558\n",
      "Epoch 41/60\n",
      "479/479 [==============================] - 0s 163us/step - loss: 0.1050\n",
      "Epoch 42/60\n",
      "479/479 [==============================] - 0s 165us/step - loss: 0.1218\n",
      "Epoch 43/60\n",
      "479/479 [==============================] - 0s 165us/step - loss: 0.1018\n",
      "Epoch 44/60\n",
      "479/479 [==============================] - 0s 167us/step - loss: 0.0977\n",
      "Epoch 45/60\n",
      "479/479 [==============================] - 0s 159us/step - loss: 0.1174\n",
      "Epoch 46/60\n",
      "479/479 [==============================] - 0s 160us/step - loss: 0.1250\n",
      "Epoch 47/60\n",
      "479/479 [==============================] - 0s 161us/step - loss: 0.0838\n",
      "Epoch 48/60\n",
      "479/479 [==============================] - 0s 174us/step - loss: 0.1310\n",
      "Epoch 49/60\n",
      "479/479 [==============================] - 0s 160us/step - loss: 0.0816\n",
      "Epoch 50/60\n",
      "479/479 [==============================] - 0s 166us/step - loss: 0.0761\n",
      "Epoch 51/60\n",
      "479/479 [==============================] - 0s 179us/step - loss: 0.1106\n",
      "Epoch 52/60\n",
      "479/479 [==============================] - 0s 195us/step - loss: 0.1516\n",
      "Epoch 53/60\n",
      "479/479 [==============================] - 0s 168us/step - loss: 0.0686\n",
      "Epoch 54/60\n",
      "479/479 [==============================] - 0s 163us/step - loss: 0.0793\n",
      "Epoch 55/60\n",
      "479/479 [==============================] - 0s 170us/step - loss: 0.0584\n",
      "Epoch 56/60\n",
      "479/479 [==============================] - 0s 167us/step - loss: 0.0624\n",
      "Epoch 57/60\n",
      "479/479 [==============================] - 0s 164us/step - loss: 0.0586\n",
      "Epoch 58/60\n",
      "479/479 [==============================] - 0s 160us/step - loss: 0.0900\n",
      "Epoch 59/60\n",
      "479/479 [==============================] - 0s 163us/step - loss: 0.0651\n",
      "Epoch 60/60\n",
      "479/479 [==============================] - 0s 163us/step - loss: 0.0519\n"
     ]
    },
    {
     "data": {
      "text/plain": [
       "<keras.callbacks.callbacks.History at 0x7f2b22dfd6d8>"
      ]
     },
     "execution_count": 49,
     "metadata": {
      "tags": []
     },
     "output_type": "execute_result"
    }
   ],
   "source": [
    "# Training\n",
    "model.fit(np.expand_dims(X_train, axis=-1), y_train, epochs=60)"
   ]
  },
  {
   "cell_type": "code",
   "execution_count": 50,
   "metadata": {
    "colab": {
     "base_uri": "https://localhost:8080/",
     "height": 52
    },
    "colab_type": "code",
    "id": "RoWjK4_uKEar",
    "outputId": "1c7a07a3-2463-4ede-e5bb-6a367f06ab9f"
   },
   "outputs": [
    {
     "name": "stdout",
     "output_type": "stream",
     "text": [
      "120/120 [==============================] - 0s 377us/step\n"
     ]
    },
    {
     "data": {
      "text/plain": [
       "0.6985671639442443"
      ]
     },
     "execution_count": 50,
     "metadata": {
      "tags": []
     },
     "output_type": "execute_result"
    }
   ],
   "source": [
    "# Computes squared error in prediction\n",
    "mse_prediction = model.evaluate(np.expand_dims(X_test, axis=-1), y_test)\n",
    "mse_prediction"
   ]
  },
  {
   "cell_type": "code",
   "execution_count": 0,
   "metadata": {
    "colab": {},
    "colab_type": "code",
    "id": "ZB_HcD-AKEf0"
   },
   "outputs": [],
   "source": [
    "# Diabetes Classification"
   ]
  },
  {
   "cell_type": "code",
   "execution_count": 0,
   "metadata": {
    "colab": {},
    "colab_type": "code",
    "id": "zFTIqQXyakJl"
   },
   "outputs": [],
   "source": [
    "# Load modules needed\n",
    "import numpy as np\n",
    "import pandas as pd\n",
    "from sklearn.model_selection import train_test_split\n",
    "\n",
    "# keras items \n",
    "from keras.models import Sequential\n",
    "from keras.layers import Dense, Activation, Dropout"
   ]
  },
  {
   "cell_type": "code",
   "execution_count": 0,
   "metadata": {
    "colab": {},
    "colab_type": "code",
    "id": "1IvudoOfakJp"
   },
   "outputs": [],
   "source": [
    "filename = 'diabetes.csv'\n",
    "dataframe = pd.read_csv(filename)\n",
    "\n",
    "array = dataframe.values\n",
    "X = array[:, 0:8]\n",
    "y = array[:, 8]"
   ]
  },
  {
   "cell_type": "code",
   "execution_count": 54,
   "metadata": {
    "colab": {
     "base_uri": "https://localhost:8080/",
     "height": 141
    },
    "colab_type": "code",
    "id": "fvGFV7qaa75G",
    "outputId": "daeafd88-6b29-471f-b902-48917fc2973f"
   },
   "outputs": [
    {
     "data": {
      "text/plain": [
       "array([[  6.   , 148.   ,  72.   , ...,   0.627,  50.   ,   1.   ],\n",
       "       [  1.   ,  85.   ,  66.   , ...,   0.351,  31.   ,   0.   ],\n",
       "       [  8.   , 183.   ,  64.   , ...,   0.672,  32.   ,   1.   ],\n",
       "       ...,\n",
       "       [  5.   , 121.   ,  72.   , ...,   0.245,  30.   ,   0.   ],\n",
       "       [  1.   , 126.   ,  60.   , ...,   0.349,  47.   ,   1.   ],\n",
       "       [  1.   ,  93.   ,  70.   , ...,   0.315,  23.   ,   0.   ]])"
      ]
     },
     "execution_count": 54,
     "metadata": {
      "tags": []
     },
     "output_type": "execute_result"
    }
   ],
   "source": [
    "array"
   ]
  },
  {
   "cell_type": "code",
   "execution_count": 0,
   "metadata": {
    "colab": {},
    "colab_type": "code",
    "id": "6vc_HVOmakJt"
   },
   "outputs": [],
   "source": [
    "from sklearn.model_selection import train_test_split\n",
    "\n",
    "# Data partitioning into train and test (20%)\n",
    "X_train, X_test, y_train, y_test = train_test_split(X, y, test_size=0.2, random_state=42)"
   ]
  },
  {
   "cell_type": "code",
   "execution_count": 56,
   "metadata": {
    "colab": {
     "base_uri": "https://localhost:8080/",
     "height": 35
    },
    "colab_type": "code",
    "id": "EZiediR6a2GK",
    "outputId": "e3d9621e-e4e5-461f-858b-a46a68839cc2"
   },
   "outputs": [
    {
     "data": {
      "text/plain": [
       "(614, 8)"
      ]
     },
     "execution_count": 56,
     "metadata": {
      "tags": []
     },
     "output_type": "execute_result"
    }
   ],
   "source": [
    "X_train.shape"
   ]
  },
  {
   "cell_type": "code",
   "execution_count": 57,
   "metadata": {
    "colab": {
     "base_uri": "https://localhost:8080/",
     "height": 141
    },
    "colab_type": "code",
    "id": "sgIWul2Ta4P5",
    "outputId": "3b0cf816-63f0-4241-a8b5-f36e3b4d2835"
   },
   "outputs": [
    {
     "data": {
      "text/plain": [
       "array([[  6.   , 148.   ,  72.   , ...,  33.6  ,   0.627,  50.   ],\n",
       "       [  1.   ,  85.   ,  66.   , ...,  26.6  ,   0.351,  31.   ],\n",
       "       [  8.   , 183.   ,  64.   , ...,  23.3  ,   0.672,  32.   ],\n",
       "       ...,\n",
       "       [  5.   , 121.   ,  72.   , ...,  26.2  ,   0.245,  30.   ],\n",
       "       [  1.   , 126.   ,  60.   , ...,  30.1  ,   0.349,  47.   ],\n",
       "       [  1.   ,  93.   ,  70.   , ...,  30.4  ,   0.315,  23.   ]])"
      ]
     },
     "execution_count": 57,
     "metadata": {
      "tags": []
     },
     "output_type": "execute_result"
    }
   ],
   "source": [
    "X"
   ]
  },
  {
   "cell_type": "code",
   "execution_count": 58,
   "metadata": {
    "colab": {
     "base_uri": "https://localhost:8080/",
     "height": 835
    },
    "colab_type": "code",
    "id": "eR_DiU2ga-Xd",
    "outputId": "5fa4379b-c995-4482-8fc5-a19dd6611c9a"
   },
   "outputs": [
    {
     "data": {
      "text/plain": [
       "array([1., 0., 1., 0., 1., 0., 1., 0., 1., 1., 0., 1., 0., 1., 1., 1., 1.,\n",
       "       1., 0., 1., 0., 0., 1., 1., 1., 1., 1., 0., 0., 0., 0., 1., 0., 0.,\n",
       "       0., 0., 0., 1., 1., 1., 0., 0., 0., 1., 0., 1., 0., 0., 1., 0., 0.,\n",
       "       0., 0., 1., 0., 0., 1., 0., 0., 0., 0., 1., 0., 0., 1., 0., 1., 0.,\n",
       "       0., 0., 1., 0., 1., 0., 0., 0., 0., 0., 1., 0., 0., 0., 0., 0., 1.,\n",
       "       0., 0., 0., 1., 0., 0., 0., 0., 1., 0., 0., 0., 0., 0., 1., 1., 0.,\n",
       "       0., 0., 0., 0., 0., 0., 0., 1., 1., 1., 0., 0., 1., 1., 1., 0., 0.,\n",
       "       0., 1., 0., 0., 0., 1., 1., 0., 0., 1., 1., 1., 1., 1., 0., 0., 0.,\n",
       "       0., 0., 0., 0., 0., 0., 0., 1., 0., 0., 0., 0., 0., 0., 0., 0., 1.,\n",
       "       0., 1., 1., 0., 0., 0., 1., 0., 0., 0., 0., 1., 1., 0., 0., 0., 0.,\n",
       "       1., 1., 0., 0., 0., 1., 0., 1., 0., 1., 0., 0., 0., 0., 0., 1., 1.,\n",
       "       1., 1., 1., 0., 0., 1., 1., 0., 1., 0., 1., 1., 1., 0., 0., 0., 0.,\n",
       "       0., 0., 1., 1., 0., 1., 0., 0., 0., 1., 1., 1., 1., 0., 1., 1., 1.,\n",
       "       1., 0., 0., 0., 0., 0., 1., 0., 0., 1., 1., 0., 0., 0., 1., 1., 1.,\n",
       "       1., 0., 0., 0., 1., 1., 0., 1., 0., 0., 0., 0., 0., 0., 0., 0., 1.,\n",
       "       1., 0., 0., 0., 1., 0., 1., 0., 0., 1., 0., 1., 0., 0., 1., 1., 0.,\n",
       "       0., 0., 0., 0., 1., 0., 0., 0., 1., 0., 0., 1., 1., 0., 0., 1., 0.,\n",
       "       0., 0., 1., 1., 1., 0., 0., 1., 0., 1., 0., 1., 1., 0., 1., 0., 0.,\n",
       "       1., 0., 1., 1., 0., 0., 1., 0., 1., 0., 0., 1., 0., 1., 0., 1., 1.,\n",
       "       1., 0., 0., 1., 0., 1., 0., 0., 0., 1., 0., 0., 0., 0., 1., 1., 1.,\n",
       "       0., 0., 0., 0., 0., 0., 0., 0., 0., 1., 0., 0., 0., 0., 0., 1., 1.,\n",
       "       1., 0., 1., 1., 0., 0., 1., 0., 0., 1., 0., 0., 1., 1., 0., 0., 0.,\n",
       "       0., 1., 0., 0., 1., 0., 0., 0., 0., 0., 0., 0., 1., 1., 1., 0., 0.,\n",
       "       1., 0., 0., 1., 0., 0., 1., 0., 1., 1., 0., 1., 0., 1., 0., 1., 0.,\n",
       "       1., 1., 0., 0., 0., 0., 1., 1., 0., 1., 0., 1., 0., 0., 0., 0., 1.,\n",
       "       1., 0., 1., 0., 1., 0., 0., 0., 0., 0., 1., 0., 0., 0., 0., 1., 0.,\n",
       "       0., 1., 1., 1., 0., 0., 1., 0., 0., 1., 0., 0., 0., 1., 0., 0., 1.,\n",
       "       0., 0., 0., 0., 0., 0., 0., 0., 0., 1., 0., 0., 0., 0., 0., 0., 0.,\n",
       "       1., 0., 0., 0., 1., 0., 0., 0., 1., 1., 0., 0., 0., 0., 0., 0., 0.,\n",
       "       1., 0., 0., 0., 0., 1., 0., 0., 0., 1., 0., 0., 0., 1., 0., 0., 0.,\n",
       "       1., 0., 0., 0., 0., 1., 1., 0., 0., 0., 0., 0., 0., 1., 0., 0., 0.,\n",
       "       0., 0., 0., 0., 0., 0., 0., 0., 1., 0., 0., 0., 1., 1., 1., 1., 0.,\n",
       "       0., 1., 1., 0., 0., 0., 0., 0., 0., 0., 0., 0., 0., 0., 0., 0., 1.,\n",
       "       1., 0., 0., 0., 0., 0., 0., 0., 1., 0., 0., 0., 0., 0., 0., 0., 1.,\n",
       "       0., 1., 1., 0., 0., 0., 1., 0., 1., 0., 1., 0., 1., 0., 1., 0., 0.,\n",
       "       1., 0., 0., 1., 0., 0., 0., 0., 1., 1., 0., 1., 0., 0., 0., 0., 1.,\n",
       "       1., 0., 1., 0., 0., 0., 1., 1., 0., 0., 0., 0., 0., 0., 0., 0., 0.,\n",
       "       0., 1., 0., 0., 0., 0., 1., 0., 0., 1., 0., 0., 0., 1., 0., 0., 0.,\n",
       "       1., 1., 1., 0., 0., 0., 0., 0., 0., 1., 0., 0., 0., 1., 0., 1., 1.,\n",
       "       1., 1., 0., 1., 1., 0., 0., 0., 0., 0., 0., 0., 1., 1., 0., 1., 0.,\n",
       "       0., 1., 0., 1., 0., 0., 0., 0., 0., 1., 0., 1., 0., 1., 0., 1., 1.,\n",
       "       0., 0., 0., 0., 1., 1., 0., 0., 0., 1., 0., 1., 1., 0., 0., 1., 0.,\n",
       "       0., 1., 1., 0., 0., 1., 0., 0., 1., 0., 0., 0., 0., 0., 0., 0., 1.,\n",
       "       1., 1., 0., 0., 0., 0., 0., 0., 1., 1., 0., 0., 1., 0., 0., 1., 0.,\n",
       "       1., 1., 1., 0., 0., 1., 1., 1., 0., 1., 0., 1., 0., 1., 0., 0., 0.,\n",
       "       0., 1., 0.])"
      ]
     },
     "execution_count": 58,
     "metadata": {
      "tags": []
     },
     "output_type": "execute_result"
    }
   ],
   "source": [
    "y"
   ]
  },
  {
   "cell_type": "code",
   "execution_count": 59,
   "metadata": {
    "colab": {
     "base_uri": "https://localhost:8080/",
     "height": 515
    },
    "colab_type": "code",
    "id": "yd7-ZpecakJy",
    "outputId": "7df1fafb-8086-4324-ff76-19db85e69b53"
   },
   "outputs": [
    {
     "name": "stdout",
     "output_type": "stream",
     "text": [
      "Model: \"sequential_12\"\n",
      "_________________________________________________________________\n",
      "Layer (type)                 Output Shape              Param #   \n",
      "=================================================================\n",
      "dense_38 (Dense)             (None, 512)               4608      \n",
      "_________________________________________________________________\n",
      "activation_27 (Activation)   (None, 512)               0         \n",
      "_________________________________________________________________\n",
      "dense_39 (Dense)             (None, 256)               131328    \n",
      "_________________________________________________________________\n",
      "activation_28 (Activation)   (None, 256)               0         \n",
      "_________________________________________________________________\n",
      "dropout_4 (Dropout)          (None, 256)               0         \n",
      "_________________________________________________________________\n",
      "dense_40 (Dense)             (None, 256)               65792     \n",
      "_________________________________________________________________\n",
      "activation_29 (Activation)   (None, 256)               0         \n",
      "_________________________________________________________________\n",
      "dense_41 (Dense)             (None, 256)               65792     \n",
      "_________________________________________________________________\n",
      "activation_30 (Activation)   (None, 256)               0         \n",
      "_________________________________________________________________\n",
      "dense_42 (Dense)             (None, 1)                 257       \n",
      "=================================================================\n",
      "Total params: 267,777\n",
      "Trainable params: 267,777\n",
      "Non-trainable params: 0\n",
      "_________________________________________________________________\n"
     ]
    }
   ],
   "source": [
    "# Instantiate model\n",
    "model = Sequential()\n",
    "\n",
    "\n",
    "model.add(Dense(512, input_dim=(8)))\n",
    "model.add(Activation('relu'))\n",
    "model.add(Dense(256))\n",
    "model.add(Activation('relu'))\n",
    "model.add(Dropout(0.5))\n",
    "model.add(Dense(256))\n",
    "model.add(Activation('relu'))\n",
    "model.add(Dense(256))\n",
    "model.add(Activation('relu'))\n",
    "model.add(Dense(1, activation=\"sigmoid\"))\n",
    "\n",
    "# Model Compiling \n",
    "model.compile(loss='binary_crossentropy', optimizer='rmsprop', metrics=['accuracy'])\n",
    "\n",
    "# list some properties of the network\n",
    "model.summary()"
   ]
  },
  {
   "cell_type": "code",
   "execution_count": 60,
   "metadata": {
    "colab": {
     "base_uri": "https://localhost:8080/",
     "height": 1000
    },
    "colab_type": "code",
    "id": "qzCnMRgZakJ1",
    "outputId": "283f9af3-6ef7-4d2e-f60a-8d1a03d506d8"
   },
   "outputs": [
    {
     "name": "stdout",
     "output_type": "stream",
     "text": [
      "Epoch 1/100\n",
      "614/614 [==============================] - 0s 408us/step - loss: 2.2813 - accuracy: 0.5733\n",
      "Epoch 2/100\n",
      "614/614 [==============================] - 0s 176us/step - loss: 0.9915 - accuracy: 0.5798\n",
      "Epoch 3/100\n",
      "614/614 [==============================] - 0s 177us/step - loss: 0.8421 - accuracy: 0.5717\n",
      "Epoch 4/100\n",
      "614/614 [==============================] - 0s 168us/step - loss: 0.8845 - accuracy: 0.6107\n",
      "Epoch 5/100\n",
      "614/614 [==============================] - 0s 217us/step - loss: 0.7505 - accuracy: 0.5993\n",
      "Epoch 6/100\n",
      "614/614 [==============================] - 0s 162us/step - loss: 0.7433 - accuracy: 0.5993\n",
      "Epoch 7/100\n",
      "614/614 [==============================] - 0s 182us/step - loss: 0.7181 - accuracy: 0.6352\n",
      "Epoch 8/100\n",
      "614/614 [==============================] - 0s 167us/step - loss: 0.6782 - accuracy: 0.6124\n",
      "Epoch 9/100\n",
      "614/614 [==============================] - 0s 190us/step - loss: 0.6948 - accuracy: 0.6270\n",
      "Epoch 10/100\n",
      "614/614 [==============================] - 0s 170us/step - loss: 0.6674 - accuracy: 0.6221\n",
      "Epoch 11/100\n",
      "614/614 [==============================] - 0s 186us/step - loss: 0.6707 - accuracy: 0.6450\n",
      "Epoch 12/100\n",
      "614/614 [==============================] - 0s 164us/step - loss: 0.6495 - accuracy: 0.6156\n",
      "Epoch 13/100\n",
      "614/614 [==============================] - 0s 160us/step - loss: 0.6390 - accuracy: 0.6678\n",
      "Epoch 14/100\n",
      "614/614 [==============================] - 0s 166us/step - loss: 0.6450 - accuracy: 0.6629\n",
      "Epoch 15/100\n",
      "614/614 [==============================] - 0s 170us/step - loss: 0.6349 - accuracy: 0.6433\n",
      "Epoch 16/100\n",
      "614/614 [==============================] - 0s 190us/step - loss: 0.6471 - accuracy: 0.6743\n",
      "Epoch 17/100\n",
      "614/614 [==============================] - 0s 161us/step - loss: 0.6277 - accuracy: 0.6792\n",
      "Epoch 18/100\n",
      "614/614 [==============================] - 0s 176us/step - loss: 0.6234 - accuracy: 0.6775\n",
      "Epoch 19/100\n",
      "614/614 [==============================] - 0s 166us/step - loss: 0.6303 - accuracy: 0.6450\n",
      "Epoch 20/100\n",
      "614/614 [==============================] - 0s 177us/step - loss: 0.6063 - accuracy: 0.6987\n",
      "Epoch 21/100\n",
      "614/614 [==============================] - 0s 160us/step - loss: 0.6266 - accuracy: 0.6482\n",
      "Epoch 22/100\n",
      "614/614 [==============================] - 0s 167us/step - loss: 0.6037 - accuracy: 0.6645\n",
      "Epoch 23/100\n",
      "614/614 [==============================] - 0s 163us/step - loss: 0.6292 - accuracy: 0.6857\n",
      "Epoch 24/100\n",
      "614/614 [==============================] - 0s 160us/step - loss: 0.6047 - accuracy: 0.6466\n",
      "Epoch 25/100\n",
      "614/614 [==============================] - 0s 160us/step - loss: 0.6256 - accuracy: 0.6840\n",
      "Epoch 26/100\n",
      "614/614 [==============================] - 0s 172us/step - loss: 0.6060 - accuracy: 0.6954\n",
      "Epoch 27/100\n",
      "614/614 [==============================] - 0s 169us/step - loss: 0.5884 - accuracy: 0.6922\n",
      "Epoch 28/100\n",
      "614/614 [==============================] - 0s 165us/step - loss: 0.6145 - accuracy: 0.6694\n",
      "Epoch 29/100\n",
      "614/614 [==============================] - 0s 169us/step - loss: 0.6180 - accuracy: 0.6564\n",
      "Epoch 30/100\n",
      "614/614 [==============================] - 0s 170us/step - loss: 0.6023 - accuracy: 0.6726\n",
      "Epoch 31/100\n",
      "614/614 [==============================] - 0s 157us/step - loss: 0.6057 - accuracy: 0.7068\n",
      "Epoch 32/100\n",
      "614/614 [==============================] - 0s 169us/step - loss: 0.5871 - accuracy: 0.6906\n",
      "Epoch 33/100\n",
      "614/614 [==============================] - 0s 168us/step - loss: 0.6164 - accuracy: 0.6645\n",
      "Epoch 34/100\n",
      "614/614 [==============================] - 0s 170us/step - loss: 0.5855 - accuracy: 0.6857\n",
      "Epoch 35/100\n",
      "614/614 [==============================] - 0s 163us/step - loss: 0.6014 - accuracy: 0.6710\n",
      "Epoch 36/100\n",
      "614/614 [==============================] - 0s 158us/step - loss: 0.6155 - accuracy: 0.6857\n",
      "Epoch 37/100\n",
      "614/614 [==============================] - 0s 173us/step - loss: 0.5959 - accuracy: 0.6857\n",
      "Epoch 38/100\n",
      "614/614 [==============================] - 0s 160us/step - loss: 0.5683 - accuracy: 0.7182\n",
      "Epoch 39/100\n",
      "614/614 [==============================] - 0s 179us/step - loss: 0.6010 - accuracy: 0.6954\n",
      "Epoch 40/100\n",
      "614/614 [==============================] - 0s 160us/step - loss: 0.5955 - accuracy: 0.7134\n",
      "Epoch 41/100\n",
      "614/614 [==============================] - 0s 160us/step - loss: 0.5795 - accuracy: 0.7134\n",
      "Epoch 42/100\n",
      "614/614 [==============================] - 0s 168us/step - loss: 0.5732 - accuracy: 0.6889\n",
      "Epoch 43/100\n",
      "614/614 [==============================] - 0s 165us/step - loss: 0.5913 - accuracy: 0.6971\n",
      "Epoch 44/100\n",
      "614/614 [==============================] - 0s 162us/step - loss: 0.5804 - accuracy: 0.6938\n",
      "Epoch 45/100\n",
      "614/614 [==============================] - 0s 197us/step - loss: 0.5891 - accuracy: 0.6906\n",
      "Epoch 46/100\n",
      "614/614 [==============================] - 0s 167us/step - loss: 0.5839 - accuracy: 0.7166\n",
      "Epoch 47/100\n",
      "614/614 [==============================] - 0s 168us/step - loss: 0.5683 - accuracy: 0.7101\n",
      "Epoch 48/100\n",
      "614/614 [==============================] - 0s 173us/step - loss: 0.5637 - accuracy: 0.7134\n",
      "Epoch 49/100\n",
      "614/614 [==============================] - 0s 172us/step - loss: 0.5709 - accuracy: 0.7036\n",
      "Epoch 50/100\n",
      "614/614 [==============================] - 0s 163us/step - loss: 0.5749 - accuracy: 0.6873\n",
      "Epoch 51/100\n",
      "614/614 [==============================] - 0s 169us/step - loss: 0.5756 - accuracy: 0.7199\n",
      "Epoch 52/100\n",
      "614/614 [==============================] - 0s 179us/step - loss: 0.5594 - accuracy: 0.7068\n",
      "Epoch 53/100\n",
      "614/614 [==============================] - 0s 177us/step - loss: 0.5643 - accuracy: 0.7150\n",
      "Epoch 54/100\n",
      "614/614 [==============================] - 0s 172us/step - loss: 0.5588 - accuracy: 0.7085\n",
      "Epoch 55/100\n",
      "614/614 [==============================] - 0s 163us/step - loss: 0.5633 - accuracy: 0.7117\n",
      "Epoch 56/100\n",
      "614/614 [==============================] - 0s 177us/step - loss: 0.5622 - accuracy: 0.7166\n",
      "Epoch 57/100\n",
      "614/614 [==============================] - 0s 164us/step - loss: 0.5614 - accuracy: 0.7345\n",
      "Epoch 58/100\n",
      "614/614 [==============================] - 0s 174us/step - loss: 0.5700 - accuracy: 0.7166\n",
      "Epoch 59/100\n",
      "614/614 [==============================] - 0s 166us/step - loss: 0.5523 - accuracy: 0.7231\n",
      "Epoch 60/100\n",
      "614/614 [==============================] - 0s 166us/step - loss: 0.5669 - accuracy: 0.7264\n",
      "Epoch 61/100\n",
      "614/614 [==============================] - 0s 163us/step - loss: 0.5553 - accuracy: 0.7182\n",
      "Epoch 62/100\n",
      "614/614 [==============================] - 0s 165us/step - loss: 0.5509 - accuracy: 0.7166\n",
      "Epoch 63/100\n",
      "614/614 [==============================] - 0s 162us/step - loss: 0.5662 - accuracy: 0.7199\n",
      "Epoch 64/100\n",
      "614/614 [==============================] - 0s 163us/step - loss: 0.5463 - accuracy: 0.7199\n",
      "Epoch 65/100\n",
      "614/614 [==============================] - 0s 171us/step - loss: 0.5323 - accuracy: 0.7264\n",
      "Epoch 66/100\n",
      "614/614 [==============================] - 0s 176us/step - loss: 0.5755 - accuracy: 0.7248\n",
      "Epoch 67/100\n",
      "614/614 [==============================] - 0s 161us/step - loss: 0.5220 - accuracy: 0.7296\n",
      "Epoch 68/100\n",
      "614/614 [==============================] - 0s 173us/step - loss: 0.5400 - accuracy: 0.7329\n",
      "Epoch 69/100\n",
      "614/614 [==============================] - 0s 161us/step - loss: 0.5494 - accuracy: 0.7264\n",
      "Epoch 70/100\n",
      "614/614 [==============================] - 0s 162us/step - loss: 0.5436 - accuracy: 0.7264\n",
      "Epoch 71/100\n",
      "614/614 [==============================] - 0s 167us/step - loss: 0.5337 - accuracy: 0.7166\n",
      "Epoch 72/100\n",
      "614/614 [==============================] - 0s 179us/step - loss: 0.5629 - accuracy: 0.7280\n",
      "Epoch 73/100\n",
      "614/614 [==============================] - 0s 174us/step - loss: 0.5478 - accuracy: 0.7313\n",
      "Epoch 74/100\n",
      "614/614 [==============================] - 0s 159us/step - loss: 0.5365 - accuracy: 0.7476\n",
      "Epoch 75/100\n",
      "614/614 [==============================] - 0s 174us/step - loss: 0.5422 - accuracy: 0.7459\n",
      "Epoch 76/100\n",
      "614/614 [==============================] - 0s 163us/step - loss: 0.5297 - accuracy: 0.7459\n",
      "Epoch 77/100\n",
      "614/614 [==============================] - 0s 198us/step - loss: 0.5258 - accuracy: 0.7492\n",
      "Epoch 78/100\n",
      "614/614 [==============================] - 0s 164us/step - loss: 0.5359 - accuracy: 0.7410\n",
      "Epoch 79/100\n",
      "614/614 [==============================] - 0s 162us/step - loss: 0.5272 - accuracy: 0.7508\n",
      "Epoch 80/100\n",
      "614/614 [==============================] - 0s 168us/step - loss: 0.5346 - accuracy: 0.7492\n",
      "Epoch 81/100\n",
      "614/614 [==============================] - 0s 166us/step - loss: 0.5231 - accuracy: 0.7459\n",
      "Epoch 82/100\n",
      "614/614 [==============================] - 0s 163us/step - loss: 0.5378 - accuracy: 0.7427\n",
      "Epoch 83/100\n",
      "614/614 [==============================] - 0s 173us/step - loss: 0.5230 - accuracy: 0.7671\n",
      "Epoch 84/100\n",
      "614/614 [==============================] - 0s 177us/step - loss: 0.5280 - accuracy: 0.7329\n",
      "Epoch 85/100\n",
      "614/614 [==============================] - 0s 160us/step - loss: 0.5175 - accuracy: 0.7590\n",
      "Epoch 86/100\n",
      "614/614 [==============================] - 0s 166us/step - loss: 0.5287 - accuracy: 0.7231\n",
      "Epoch 87/100\n",
      "614/614 [==============================] - 0s 165us/step - loss: 0.5208 - accuracy: 0.7557\n",
      "Epoch 88/100\n",
      "614/614 [==============================] - 0s 159us/step - loss: 0.5636 - accuracy: 0.7329\n",
      "Epoch 89/100\n",
      "614/614 [==============================] - 0s 158us/step - loss: 0.5359 - accuracy: 0.7476\n",
      "Epoch 90/100\n",
      "614/614 [==============================] - 0s 166us/step - loss: 0.5200 - accuracy: 0.7410\n",
      "Epoch 91/100\n",
      "614/614 [==============================] - 0s 159us/step - loss: 0.5351 - accuracy: 0.7329\n",
      "Epoch 92/100\n",
      "614/614 [==============================] - 0s 176us/step - loss: 0.5105 - accuracy: 0.7492\n",
      "Epoch 93/100\n",
      "614/614 [==============================] - 0s 180us/step - loss: 0.4970 - accuracy: 0.7655\n",
      "Epoch 94/100\n",
      "614/614 [==============================] - 0s 190us/step - loss: 0.4993 - accuracy: 0.7557\n",
      "Epoch 95/100\n",
      "614/614 [==============================] - 0s 164us/step - loss: 0.5294 - accuracy: 0.7459\n",
      "Epoch 96/100\n",
      "614/614 [==============================] - 0s 176us/step - loss: 0.5230 - accuracy: 0.7427\n",
      "Epoch 97/100\n",
      "614/614 [==============================] - 0s 166us/step - loss: 0.5289 - accuracy: 0.7476\n",
      "Epoch 98/100\n",
      "614/614 [==============================] - 0s 163us/step - loss: 0.5300 - accuracy: 0.7264\n",
      "Epoch 99/100\n",
      "614/614 [==============================] - 0s 166us/step - loss: 0.4945 - accuracy: 0.7541\n",
      "Epoch 100/100\n",
      "614/614 [==============================] - 0s 191us/step - loss: 0.5155 - accuracy: 0.7573\n"
     ]
    },
    {
     "data": {
      "text/plain": [
       "<keras.callbacks.callbacks.History at 0x7f2b2341bac8>"
      ]
     },
     "execution_count": 60,
     "metadata": {
      "tags": []
     },
     "output_type": "execute_result"
    }
   ],
   "source": [
    "# Training\n",
    "model.fit(X_train, y_train, epochs=100)"
   ]
  },
  {
   "cell_type": "code",
   "execution_count": 61,
   "metadata": {
    "colab": {
     "base_uri": "https://localhost:8080/",
     "height": 52
    },
    "colab_type": "code",
    "id": "Yh6KDwl-akJ6",
    "outputId": "0c100a74-901a-4655-98a6-6f26d9b4187a"
   },
   "outputs": [
    {
     "name": "stdout",
     "output_type": "stream",
     "text": [
      "614/614 [==============================] - 0s 160us/step\n"
     ]
    },
    {
     "data": {
      "text/plain": [
       "[0.4698728003602851, 0.7817589640617371]"
      ]
     },
     "execution_count": 61,
     "metadata": {
      "tags": []
     },
     "output_type": "execute_result"
    }
   ],
   "source": [
    "model.evaluate(X_train, y_train)"
   ]
  },
  {
   "cell_type": "code",
   "execution_count": 62,
   "metadata": {
    "colab": {
     "base_uri": "https://localhost:8080/",
     "height": 52
    },
    "colab_type": "code",
    "id": "eK3ToC_MakJ9",
    "outputId": "7ddce312-135c-4da5-97fb-17944d25c038"
   },
   "outputs": [
    {
     "name": "stdout",
     "output_type": "stream",
     "text": [
      "154/154 [==============================] - 0s 107us/step\n"
     ]
    },
    {
     "data": {
      "text/plain": [
       "[0.7353000315752897, 0.701298713684082]"
      ]
     },
     "execution_count": 62,
     "metadata": {
      "tags": []
     },
     "output_type": "execute_result"
    }
   ],
   "source": [
    "model.evaluate(X_test, y_test)"
   ]
  },
  {
   "cell_type": "code",
   "execution_count": 0,
   "metadata": {
    "colab": {},
    "colab_type": "code",
    "id": "ylQfagwXbpl-"
   },
   "outputs": [],
   "source": []
  }
 ],
 "metadata": {
  "accelerator": "GPU",
  "colab": {
   "collapsed_sections": [],
   "name": "39_deep_structured.ipynb",
   "provenance": []
  },
  "kernelspec": {
   "display_name": "Python 3",
   "language": "python",
   "name": "python3"
  },
  "language_info": {
   "codemirror_mode": {
    "name": "ipython",
    "version": 3
   },
   "file_extension": ".py",
   "mimetype": "text/x-python",
   "name": "python",
   "nbconvert_exporter": "python",
   "pygments_lexer": "ipython3",
   "version": "3.7.7"
  }
 },
 "nbformat": 4,
 "nbformat_minor": 1
}
