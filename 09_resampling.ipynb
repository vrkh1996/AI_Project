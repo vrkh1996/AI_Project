{
 "cells": [
  {
   "cell_type": "markdown",
   "metadata": {
    "collapsed": true
   },
   "source": [
    "<div class=\"alert\">\n",
    "<div style=\"direction:ltr;text-align:left;font-family:Tahoma; font-size:16pt\">Performance Evaluation with Resampling\n",
    "</div>\n",
    "</div>"
   ]
  },
  {
   "cell_type": "code",
   "execution_count": 1,
   "metadata": {},
   "outputs": [],
   "source": [
    "from tensorflow import keras\n",
    "\n",
    "(X_train_full, y_train_full), (X_test_full, y_test_full) = keras.datasets.mnist.load_data()"
   ]
  },
  {
   "cell_type": "code",
   "execution_count": 15,
   "metadata": {},
   "outputs": [],
   "source": [
    "Data = X_train_full[:100]\n",
    "labels = y_train_full[:100]"
   ]
  },
  {
   "cell_type": "code",
   "execution_count": 16,
   "metadata": {},
   "outputs": [
    {
     "data": {
      "text/plain": [
       "(100, 28, 28)"
      ]
     },
     "execution_count": 16,
     "metadata": {},
     "output_type": "execute_result"
    }
   ],
   "source": [
    "Data.shape"
   ]
  },
  {
   "cell_type": "code",
   "execution_count": 17,
   "metadata": {},
   "outputs": [],
   "source": [
    "Data = Data.reshape((-1, 28*28))"
   ]
  },
  {
   "cell_type": "code",
   "execution_count": 18,
   "metadata": {},
   "outputs": [
    {
     "data": {
      "text/plain": [
       "(100, 784)"
      ]
     },
     "execution_count": 18,
     "metadata": {},
     "output_type": "execute_result"
    }
   ],
   "source": [
    "Data.shape"
   ]
  },
  {
   "cell_type": "code",
   "execution_count": 21,
   "metadata": {},
   "outputs": [],
   "source": [
    "from sklearn.linear_model import LogisticRegression\n",
    "import numpy as np"
   ]
  },
  {
   "cell_type": "code",
   "execution_count": null,
   "metadata": {},
   "outputs": [],
   "source": [
    "# LogisticRegression -> solver : {'newton-cg', 'lbfgs', 'liblinear', 'sag', 'saga'}"
   ]
  },
  {
   "cell_type": "code",
   "execution_count": 36,
   "metadata": {},
   "outputs": [
    {
     "name": "stdout",
     "output_type": "stream",
     "text": [
      "Test accuracy : 0.95\n"
     ]
    }
   ],
   "source": [
    "acc = []\n",
    "from sklearn.model_selection import train_test_split\n",
    "\n",
    "x_train, X_test, y_train, y_test = train_test_split(Data, labels, test_size=0.2)\n",
    "\n",
    "lr = LogisticRegression()\n",
    "lr.fit(x_train, y_train)\n",
    "\n",
    "score = lr.score(X_test, y_test)\n",
    "print('Test accuracy' + ' :', score)"
   ]
  },
  {
   "cell_type": "code",
   "execution_count": 37,
   "metadata": {},
   "outputs": [
    {
     "name": "stdout",
     "output_type": "stream",
     "text": [
      "Test accuracy on fold 1 : 0.85\n",
      "Test accuracy on fold 2 : 0.7\n",
      "Test accuracy on fold 3 : 0.85\n",
      "Test accuracy on fold 4 : 0.9\n",
      "Test accuracy on fold 5 : 0.85\n"
     ]
    }
   ],
   "source": [
    "from sklearn.model_selection import KFold\n",
    "\n",
    "n_split = 5\n",
    "cv = KFold(n_splits=n_split)\n",
    "fold_count = 0\n",
    "acc = []\n",
    "\n",
    "for train_idx, test_idx in cv.split(Data, labels): \n",
    "    fold_count += 1\n",
    "\n",
    "    x_train, x_test = Data[train_idx], Data[test_idx]\n",
    "    y_train, y_test = labels[train_idx], labels[test_idx]\n",
    "    \n",
    "    lr = LogisticRegression()\n",
    "    lr.fit(x_train, y_train)\n",
    "\n",
    "    score = lr.score(x_test, y_test)\n",
    "    print('Test accuracy on fold ' + str(fold_count) + ' :', score)\n",
    "    acc.append(score)"
   ]
  },
  {
   "cell_type": "code",
   "execution_count": 38,
   "metadata": {},
   "outputs": [
    {
     "name": "stdout",
     "output_type": "stream",
     "text": [
      "Accuracy: 0.83000 (+/- 0.06782)\n"
     ]
    }
   ],
   "source": [
    "acc = np.array(acc)\n",
    "print(\"Accuracy: %0.5f (+/- %0.5f)\" % (acc.mean(), acc.std()))"
   ]
  },
  {
   "cell_type": "code",
   "execution_count": 39,
   "metadata": {
    "scrolled": true
   },
   "outputs": [
    {
     "name": "stdout",
     "output_type": "stream",
     "text": [
      "Test accuracy on sample [0] : 0.0\n",
      "Test accuracy on sample [1] : 1.0\n",
      "Test accuracy on sample [2] : 1.0\n",
      "Test accuracy on sample [3] : 1.0\n",
      "Test accuracy on sample [4] : 1.0\n",
      "Test accuracy on sample [5] : 0.0\n",
      "Test accuracy on sample [6] : 1.0\n",
      "Test accuracy on sample [7] : 1.0\n",
      "Test accuracy on sample [8] : 1.0\n",
      "Test accuracy on sample [9] : 1.0\n",
      "Test accuracy on sample [10] : 1.0\n",
      "Test accuracy on sample [11] : 1.0\n",
      "Test accuracy on sample [12] : 1.0\n",
      "Test accuracy on sample [13] : 1.0\n",
      "Test accuracy on sample [14] : 1.0\n",
      "Test accuracy on sample [15] : 1.0\n",
      "Test accuracy on sample [16] : 1.0\n",
      "Test accuracy on sample [17] : 1.0\n",
      "Test accuracy on sample [18] : 1.0\n",
      "Test accuracy on sample [19] : 1.0\n",
      "Test accuracy on sample [20] : 1.0\n",
      "Test accuracy on sample [21] : 1.0\n",
      "Test accuracy on sample [22] : 1.0\n",
      "Test accuracy on sample [23] : 1.0\n",
      "Test accuracy on sample [24] : 0.0\n",
      "Test accuracy on sample [25] : 1.0\n",
      "Test accuracy on sample [26] : 0.0\n",
      "Test accuracy on sample [27] : 1.0\n",
      "Test accuracy on sample [28] : 0.0\n",
      "Test accuracy on sample [29] : 1.0\n",
      "Test accuracy on sample [30] : 1.0\n",
      "Test accuracy on sample [31] : 0.0\n",
      "Test accuracy on sample [32] : 1.0\n",
      "Test accuracy on sample [33] : 0.0\n",
      "Test accuracy on sample [34] : 1.0\n",
      "Test accuracy on sample [35] : 1.0\n",
      "Test accuracy on sample [36] : 1.0\n",
      "Test accuracy on sample [37] : 1.0\n",
      "Test accuracy on sample [38] : 0.0\n",
      "Test accuracy on sample [39] : 1.0\n",
      "Test accuracy on sample [40] : 1.0\n",
      "Test accuracy on sample [41] : 1.0\n",
      "Test accuracy on sample [42] : 1.0\n",
      "Test accuracy on sample [43] : 1.0\n",
      "Test accuracy on sample [44] : 1.0\n",
      "Test accuracy on sample [45] : 1.0\n",
      "Test accuracy on sample [46] : 0.0\n",
      "Test accuracy on sample [47] : 1.0\n",
      "Test accuracy on sample [48] : 0.0\n",
      "Test accuracy on sample [49] : 1.0\n",
      "Test accuracy on sample [50] : 1.0\n",
      "Test accuracy on sample [51] : 1.0\n",
      "Test accuracy on sample [52] : 1.0\n",
      "Test accuracy on sample [53] : 1.0\n",
      "Test accuracy on sample [54] : 0.0\n",
      "Test accuracy on sample [55] : 1.0\n",
      "Test accuracy on sample [56] : 1.0\n",
      "Test accuracy on sample [57] : 1.0\n",
      "Test accuracy on sample [58] : 1.0\n",
      "Test accuracy on sample [59] : 1.0\n",
      "Test accuracy on sample [60] : 1.0\n",
      "Test accuracy on sample [61] : 1.0\n",
      "Test accuracy on sample [62] : 1.0\n",
      "Test accuracy on sample [63] : 1.0\n",
      "Test accuracy on sample [64] : 1.0\n",
      "Test accuracy on sample [65] : 1.0\n",
      "Test accuracy on sample [66] : 1.0\n",
      "Test accuracy on sample [67] : 1.0\n",
      "Test accuracy on sample [68] : 0.0\n",
      "Test accuracy on sample [69] : 1.0\n",
      "Test accuracy on sample [70] : 1.0\n",
      "Test accuracy on sample [71] : 1.0\n",
      "Test accuracy on sample [72] : 1.0\n",
      "Test accuracy on sample [73] : 1.0\n",
      "Test accuracy on sample [74] : 1.0\n",
      "Test accuracy on sample [75] : 1.0\n",
      "Test accuracy on sample [76] : 0.0\n",
      "Test accuracy on sample [77] : 1.0\n",
      "Test accuracy on sample [78] : 1.0\n",
      "Test accuracy on sample [79] : 1.0\n",
      "Test accuracy on sample [80] : 0.0\n",
      "Test accuracy on sample [81] : 1.0\n",
      "Test accuracy on sample [82] : 1.0\n",
      "Test accuracy on sample [83] : 1.0\n",
      "Test accuracy on sample [84] : 0.0\n",
      "Test accuracy on sample [85] : 1.0\n",
      "Test accuracy on sample [86] : 0.0\n",
      "Test accuracy on sample [87] : 1.0\n",
      "Test accuracy on sample [88] : 1.0\n",
      "Test accuracy on sample [89] : 1.0\n",
      "Test accuracy on sample [90] : 1.0\n",
      "Test accuracy on sample [91] : 1.0\n",
      "Test accuracy on sample [92] : 1.0\n",
      "Test accuracy on sample [93] : 1.0\n",
      "Test accuracy on sample [94] : 1.0\n",
      "Test accuracy on sample [95] : 1.0\n",
      "Test accuracy on sample [96] : 1.0\n",
      "Test accuracy on sample [97] : 1.0\n",
      "Test accuracy on sample [98] : 1.0\n",
      "Test accuracy on sample [99] : 1.0\n"
     ]
    }
   ],
   "source": [
    "from sklearn.model_selection import LeaveOneOut\n",
    "\n",
    "loo = LeaveOneOut()\n",
    "acc = []\n",
    "n = 100\n",
    "\n",
    "for train_index, test_index in loo.split(Data[:n]):\n",
    "    x_train, x_test = Data[:n][train_index], Data[:n][test_index]\n",
    "    y_train, y_test = labels[train_index], labels[test_index]\n",
    "    \n",
    "    lr = LogisticRegression()\n",
    "    lr.fit(x_train, y_train)\n",
    "\n",
    "    score = lr.score(x_test, y_test)\n",
    "    print('Test accuracy on sample ' + str(test_index) + ' :', score)\n",
    "    acc.append(score)"
   ]
  },
  {
   "cell_type": "code",
   "execution_count": 40,
   "metadata": {},
   "outputs": [
    {
     "name": "stdout",
     "output_type": "stream",
     "text": [
      "Accuracy: 0.84000 (+/- 0.36661)\n"
     ]
    }
   ],
   "source": [
    "acc = np.array(acc)\n",
    "print(\"Accuracy: %0.5f (+/- %0.5f)\" % (acc.mean(), acc.std()))"
   ]
  },
  {
   "cell_type": "code",
   "execution_count": 41,
   "metadata": {
    "scrolled": true
   },
   "outputs": [
    {
     "name": "stdout",
     "output_type": "stream",
     "text": [
      "Test accuracy in turn 0 : 0.65\n",
      "Test accuracy in turn 1 : 0.8\n",
      "Test accuracy in turn 2 : 0.8\n",
      "Test accuracy in turn 3 : 0.7\n",
      "Test accuracy in turn 4 : 0.85\n",
      "Test accuracy in turn 5 : 0.85\n",
      "Test accuracy in turn 6 : 0.85\n",
      "Test accuracy in turn 7 : 0.85\n",
      "Test accuracy in turn 8 : 0.8\n",
      "Test accuracy in turn 9 : 0.95\n",
      "Test accuracy in turn 10 : 0.8\n",
      "Test accuracy in turn 11 : 0.85\n",
      "Test accuracy in turn 12 : 0.75\n",
      "Test accuracy in turn 13 : 0.85\n",
      "Test accuracy in turn 14 : 0.75\n",
      "Test accuracy in turn 15 : 0.9\n",
      "Test accuracy in turn 16 : 0.85\n",
      "Test accuracy in turn 17 : 0.85\n",
      "Test accuracy in turn 18 : 0.85\n",
      "Test accuracy in turn 19 : 0.7\n",
      "Test accuracy in turn 20 : 0.9\n",
      "Test accuracy in turn 21 : 0.95\n",
      "Test accuracy in turn 22 : 0.75\n",
      "Test accuracy in turn 23 : 0.8\n",
      "Test accuracy in turn 24 : 0.75\n",
      "Test accuracy in turn 25 : 0.75\n",
      "Test accuracy in turn 26 : 0.9\n",
      "Test accuracy in turn 27 : 0.7\n",
      "Test accuracy in turn 28 : 0.95\n",
      "Test accuracy in turn 29 : 0.85\n",
      "Test accuracy in turn 30 : 0.65\n",
      "Test accuracy in turn 31 : 0.85\n",
      "Test accuracy in turn 32 : 0.8\n",
      "Test accuracy in turn 33 : 0.8\n",
      "Test accuracy in turn 34 : 0.7\n",
      "Test accuracy in turn 35 : 0.9\n",
      "Test accuracy in turn 36 : 0.75\n",
      "Test accuracy in turn 37 : 0.85\n",
      "Test accuracy in turn 38 : 0.8\n",
      "Test accuracy in turn 39 : 0.85\n",
      "Test accuracy in turn 40 : 0.8\n",
      "Test accuracy in turn 41 : 0.9\n",
      "Test accuracy in turn 42 : 0.75\n",
      "Test accuracy in turn 43 : 0.85\n",
      "Test accuracy in turn 44 : 0.85\n",
      "Test accuracy in turn 45 : 0.7\n",
      "Test accuracy in turn 46 : 0.95\n",
      "Test accuracy in turn 47 : 0.95\n",
      "Test accuracy in turn 48 : 0.9\n",
      "Test accuracy in turn 49 : 0.75\n",
      "Test accuracy in turn 50 : 0.85\n",
      "Test accuracy in turn 51 : 0.8\n",
      "Test accuracy in turn 52 : 0.85\n",
      "Test accuracy in turn 53 : 0.9\n",
      "Test accuracy in turn 54 : 0.9\n",
      "Test accuracy in turn 55 : 0.75\n",
      "Test accuracy in turn 56 : 0.95\n",
      "Test accuracy in turn 57 : 0.9\n",
      "Test accuracy in turn 58 : 0.8\n",
      "Test accuracy in turn 59 : 1.0\n",
      "Test accuracy in turn 60 : 0.8\n",
      "Test accuracy in turn 61 : 1.0\n",
      "Test accuracy in turn 62 : 0.6\n",
      "Test accuracy in turn 63 : 0.9\n",
      "Test accuracy in turn 64 : 0.8\n",
      "Test accuracy in turn 65 : 0.9\n",
      "Test accuracy in turn 66 : 0.9\n",
      "Test accuracy in turn 67 : 0.7\n",
      "Test accuracy in turn 68 : 0.75\n",
      "Test accuracy in turn 69 : 0.8\n",
      "Test accuracy in turn 70 : 0.85\n",
      "Test accuracy in turn 71 : 0.85\n",
      "Test accuracy in turn 72 : 0.85\n",
      "Test accuracy in turn 73 : 0.7\n",
      "Test accuracy in turn 74 : 0.9\n",
      "Test accuracy in turn 75 : 0.9\n",
      "Test accuracy in turn 76 : 0.75\n",
      "Test accuracy in turn 77 : 0.65\n",
      "Test accuracy in turn 78 : 0.7\n",
      "Test accuracy in turn 79 : 0.8\n",
      "Test accuracy in turn 80 : 0.7\n",
      "Test accuracy in turn 81 : 0.7\n",
      "Test accuracy in turn 82 : 0.75\n",
      "Test accuracy in turn 83 : 0.7\n",
      "Test accuracy in turn 84 : 0.7\n",
      "Test accuracy in turn 85 : 0.8\n",
      "Test accuracy in turn 86 : 0.9\n",
      "Test accuracy in turn 87 : 0.75\n",
      "Test accuracy in turn 88 : 0.9\n",
      "Test accuracy in turn 89 : 0.85\n",
      "Test accuracy in turn 90 : 0.75\n",
      "Test accuracy in turn 91 : 0.8\n",
      "Test accuracy in turn 92 : 0.9\n",
      "Test accuracy in turn 93 : 0.9\n",
      "Test accuracy in turn 94 : 0.9\n",
      "Test accuracy in turn 95 : 0.9\n",
      "Test accuracy in turn 96 : 0.8\n",
      "Test accuracy in turn 97 : 0.8\n",
      "Test accuracy in turn 98 : 0.8\n",
      "Test accuracy in turn 99 : 0.7\n"
     ]
    }
   ],
   "source": [
    "acc = []\n",
    "from sklearn.model_selection import train_test_split\n",
    "\n",
    "for i in range(100):\n",
    "    x_train, X_test, y_train, y_test = train_test_split(Data, labels, test_size=0.2)\n",
    "    \n",
    "    lr = LogisticRegression()\n",
    "    lr.fit(x_train, y_train)\n",
    "\n",
    "    score = lr.score(X_test, y_test)\n",
    "    print('Test accuracy in turn ' + str(i) + ' :', score)\n",
    "    acc.append(score)"
   ]
  },
  {
   "cell_type": "code",
   "execution_count": 42,
   "metadata": {},
   "outputs": [
    {
     "name": "stdout",
     "output_type": "stream",
     "text": [
      "Accuracy: 0.81700 (+/- 0.08433)\n"
     ]
    }
   ],
   "source": [
    "acc = np.array(acc)\n",
    "print(\"Accuracy: %0.5f (+/- %0.5f)\" % (acc.mean(), acc.std()))"
   ]
  },
  {
   "cell_type": "markdown",
   "metadata": {
    "collapsed": true
   },
   "source": [
    "<div class=\"alert\">\n",
    "<div style=\"direction:ltr;text-align:left;font-family:B Tahoma\"> Machine Learning Course\n",
    "<br>Vahid Reza Khazaie<br>\n",
    "</div>\n",
    "<a href=\"https://www.linkedin.com/in/vahidrezakhazaie/\">LinkedIn</a> - <a href=\"https://github.com/vrkh1996\">GitHub</a>\n",
    "\n",
    "</div>"
   ]
  }
 ],
 "metadata": {
  "anaconda-cloud": {},
  "kernelspec": {
   "display_name": "Python 3",
   "language": "python",
   "name": "python3"
  },
  "language_info": {
   "codemirror_mode": {
    "name": "ipython",
    "version": 3
   },
   "file_extension": ".py",
   "mimetype": "text/x-python",
   "name": "python",
   "nbconvert_exporter": "python",
   "pygments_lexer": "ipython3",
   "version": "3.7.7"
  },
  "nbpresent": {
   "slides": {
    "300ee14f-a043-486e-b274-7ff253907cd7": {
     "id": "300ee14f-a043-486e-b274-7ff253907cd7",
     "prev": "cb74e0bc-4513-4d13-b7f1-14c3078a7927",
     "regions": {
      "26dc3f39-a230-447c-af4c-f5e5b2fb7835": {
       "attrs": {
        "height": 0.8,
        "width": 0.8,
        "x": 0.1,
        "y": 0.1
       },
       "content": {
        "cell": "c58440a5-3f8f-4f37-9c79-6bf766209406",
        "part": "whole"
       },
       "id": "26dc3f39-a230-447c-af4c-f5e5b2fb7835"
      }
     }
    },
    "878aa53a-1444-4100-8f50-7a408191c579": {
     "id": "878aa53a-1444-4100-8f50-7a408191c579",
     "prev": null,
     "regions": {
      "a6c6843a-5ea6-4fbc-b890-3b4b8ae475b3": {
       "attrs": {
        "height": 0.8,
        "width": 0.8,
        "x": 0.1,
        "y": 0.1
       },
       "content": {
        "cell": "588ee1fa-64b5-453b-ade7-8e6b2515821c",
        "part": "whole"
       },
       "id": "a6c6843a-5ea6-4fbc-b890-3b4b8ae475b3"
      }
     }
    },
    "92e1449b-15f5-40ac-89eb-9496a06af0b0": {
     "id": "92e1449b-15f5-40ac-89eb-9496a06af0b0",
     "prev": "300ee14f-a043-486e-b274-7ff253907cd7",
     "regions": {
      "ea2d28ea-4686-4b1c-832c-836c35a7524e": {
       "attrs": {
        "height": 1,
        "width": 1,
        "x": 0,
        "y": 0
       },
       "id": "ea2d28ea-4686-4b1c-832c-836c35a7524e"
      }
     }
    },
    "96ffe88e-7b50-43de-afdd-942e564f4e3e": {
     "id": "96ffe88e-7b50-43de-afdd-942e564f4e3e",
     "prev": "878aa53a-1444-4100-8f50-7a408191c579",
     "regions": {
      "b7e52e12-489a-468d-b10c-af2024fd2856": {
       "attrs": {
        "height": 0.8,
        "width": 0.8,
        "x": 0.1,
        "y": 0.1
       },
       "content": {
        "cell": "de829a92-1fb6-44ad-a2c6-fc1001e1f6e1",
        "part": "whole"
       },
       "id": "b7e52e12-489a-468d-b10c-af2024fd2856"
      }
     }
    },
    "cb74e0bc-4513-4d13-b7f1-14c3078a7927": {
     "id": "cb74e0bc-4513-4d13-b7f1-14c3078a7927",
     "prev": "96ffe88e-7b50-43de-afdd-942e564f4e3e",
     "regions": {
      "444878ee-68f3-4abb-acff-a7079b21e86d": {
       "attrs": {
        "height": 0.8,
        "width": 0.8,
        "x": 0.1,
        "y": 0.1
       },
       "content": {
        "cell": "25f3f538-1ee8-4d98-a6bb-14cbeb7a702d",
        "part": "whole"
       },
       "id": "444878ee-68f3-4abb-acff-a7079b21e86d"
      }
     }
    }
   },
   "themes": {}
  }
 },
 "nbformat": 4,
 "nbformat_minor": 1
}
